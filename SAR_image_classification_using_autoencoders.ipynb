{
  "nbformat": 4,
  "nbformat_minor": 0,
  "metadata": {
    "colab": {
      "name": " SAR image classification using autoencoders.ipynb",
      "provenance": [],
      "collapsed_sections": []
    },
    "kernelspec": {
      "name": "python3",
      "display_name": "Python 3"
    },
    "accelerator": "GPU"
  },
  "cells": [
    {
      "cell_type": "code",
      "metadata": {
        "colab": {
          "base_uri": "https://localhost:8080/"
        },
        "id": "QffqqLYpFKKH",
        "outputId": "60fe4c8a-94c9-463b-b741-1182617dba12"
      },
      "source": [
        "pip install keras"
      ],
      "execution_count": 172,
      "outputs": [
        {
          "output_type": "stream",
          "text": [
            "Requirement already satisfied: keras in /usr/local/lib/python3.6/dist-packages (2.4.3)\n",
            "Requirement already satisfied: h5py in /usr/local/lib/python3.6/dist-packages (from keras) (2.10.0)\n",
            "Requirement already satisfied: pyyaml in /usr/local/lib/python3.6/dist-packages (from keras) (3.13)\n",
            "Requirement already satisfied: scipy>=0.14 in /usr/local/lib/python3.6/dist-packages (from keras) (1.4.1)\n",
            "Requirement already satisfied: numpy>=1.9.1 in /usr/local/lib/python3.6/dist-packages (from keras) (1.19.4)\n",
            "Requirement already satisfied: six in /usr/local/lib/python3.6/dist-packages (from h5py->keras) (1.15.0)\n"
          ],
          "name": "stdout"
        }
      ]
    },
    {
      "cell_type": "code",
      "metadata": {
        "id": "ERmUxNJsFLW1"
      },
      "source": [
        "import numpy as np\n",
        "np.random.seed(123)  # for reproducibility"
      ],
      "execution_count": 173,
      "outputs": []
    },
    {
      "cell_type": "code",
      "metadata": {
        "id": "d0Xhq6EbFT50"
      },
      "source": [
        "from keras.models import Sequential"
      ],
      "execution_count": 174,
      "outputs": []
    },
    {
      "cell_type": "code",
      "metadata": {
        "id": "v3uJB_mOFWuJ"
      },
      "source": [
        "from keras.layers import Dense, Dropout, Activation, Flatten\n",
        "from keras.layers import Convolution2D, MaxPooling2D,AveragePooling2D\n",
        "from keras.layers import UpSampling2D\n",
        "\n",
        "from keras.utils import np_utils\n"
      ],
      "execution_count": 175,
      "outputs": []
    },
    {
      "cell_type": "code",
      "metadata": {
        "colab": {
          "base_uri": "https://localhost:8080/"
        },
        "id": "owZyVI33GgNf",
        "outputId": "acd5e694-deb4-4652-c5ff-ccdfac220272"
      },
      "source": [
        "\n",
        "from google.colab import drive\n",
        "drive.mount('/content/drive/')                                   "
      ],
      "execution_count": 176,
      "outputs": [
        {
          "output_type": "stream",
          "text": [
            "Drive already mounted at /content/drive/; to attempt to forcibly remount, call drive.mount(\"/content/drive/\", force_remount=True).\n"
          ],
          "name": "stdout"
        }
      ]
    },
    {
      "cell_type": "code",
      "metadata": {
        "id": "hf2vbH3GGb4R"
      },
      "source": [
        "IMAGE_SIZE = [224, 224]\n",
        "\n",
        "train_path = '/content/drive/MyDrive/Datasets/TARGETS/TRAIN/17_DEG'\n",
        "valid_path = '/content/drive/MyDrive/Datasets/TARGETS/TEST/15_DEG'\n"
      ],
      "execution_count": 177,
      "outputs": []
    },
    {
      "cell_type": "code",
      "metadata": {
        "id": "E-el4cSyTyQ9"
      },
      "source": [
        ""
      ],
      "execution_count": 177,
      "outputs": []
    },
    {
      "cell_type": "code",
      "metadata": {
        "id": "ZPC2dNAOG-mJ"
      },
      "source": [
        "model = Sequential()\n",
        "model.add(Convolution2D(8, (12, 2), activation='relu', kernel_initializer='he_uniform', padding='same', input_shape=IMAGE_SIZE + [3]))\n",
        "model.add(MaxPooling2D((2, 2), padding='same'))\n",
        "model.add(Convolution2D(8, (2, 2), activation='relu', kernel_initializer='he_uniform', padding='same'))\n",
        "model.add(MaxPooling2D((2, 2), padding='same'))\n",
        "model.add(Convolution2D(8, (2, 2), activation='relu', kernel_initializer='he_uniform', padding='same'))\n",
        "\n",
        "model.add(Convolution2D(8, (2, 2), strides=(2,2), activation='relu', kernel_initializer='he_uniform', padding='same'))\n",
        "model.add(UpSampling2D((2, 2), interpolation='bilinear'))\n",
        "model.add(Convolution2D(8, (2, 2), activation='relu'))\n",
        "model.add(UpSampling2D((2, 2), interpolation='bilinear'))\n",
        "model.add(Convolution2D(8, (2, 2), activation='relu', kernel_initializer='he_uniform', padding='same'))\n",
        "model.add(UpSampling2D((2, 2), interpolation='bilinear'))\n",
        "model.add(Convolution2D(1, (2, 2), activation='sigmoid', padding='same'))\n",
        "model.add(Flatten())\n",
        "model.add(Dense(128, activation='relu'))\n",
        "model.add(Dense(3, activation='softmax'))"
      ],
      "execution_count": 178,
      "outputs": []
    },
    {
      "cell_type": "code",
      "metadata": {
        "id": "0IBhIpmkH7Cp"
      },
      "source": [
        "model.compile(loss='categorical_crossentropy',\n",
        "              optimizer='adam',\n",
        "              metrics=['accuracy'])"
      ],
      "execution_count": 179,
      "outputs": []
    },
    {
      "cell_type": "code",
      "metadata": {
        "colab": {
          "base_uri": "https://localhost:8080/"
        },
        "id": "B_N3KbFuIWBz",
        "outputId": "5a8f9e15-4832-46dc-87e8-c3c6e4374c38"
      },
      "source": [
        "model.summary()"
      ],
      "execution_count": 180,
      "outputs": [
        {
          "output_type": "stream",
          "text": [
            "Model: \"sequential_51\"\n",
            "_________________________________________________________________\n",
            "Layer (type)                 Output Shape              Param #   \n",
            "=================================================================\n",
            "conv2d_366 (Conv2D)          (None, 224, 224, 8)       584       \n",
            "_________________________________________________________________\n",
            "max_pooling2d_121 (MaxPoolin (None, 112, 112, 8)       0         \n",
            "_________________________________________________________________\n",
            "conv2d_367 (Conv2D)          (None, 112, 112, 8)       264       \n",
            "_________________________________________________________________\n",
            "max_pooling2d_122 (MaxPoolin (None, 56, 56, 8)         0         \n",
            "_________________________________________________________________\n",
            "conv2d_368 (Conv2D)          (None, 56, 56, 8)         264       \n",
            "_________________________________________________________________\n",
            "conv2d_369 (Conv2D)          (None, 28, 28, 8)         264       \n",
            "_________________________________________________________________\n",
            "up_sampling2d_134 (UpSamplin (None, 56, 56, 8)         0         \n",
            "_________________________________________________________________\n",
            "conv2d_370 (Conv2D)          (None, 55, 55, 8)         264       \n",
            "_________________________________________________________________\n",
            "up_sampling2d_135 (UpSamplin (None, 110, 110, 8)       0         \n",
            "_________________________________________________________________\n",
            "conv2d_371 (Conv2D)          (None, 110, 110, 8)       264       \n",
            "_________________________________________________________________\n",
            "up_sampling2d_136 (UpSamplin (None, 220, 220, 8)       0         \n",
            "_________________________________________________________________\n",
            "conv2d_372 (Conv2D)          (None, 220, 220, 1)       33        \n",
            "_________________________________________________________________\n",
            "flatten_40 (Flatten)         (None, 48400)             0         \n",
            "_________________________________________________________________\n",
            "dense_75 (Dense)             (None, 128)               6195328   \n",
            "_________________________________________________________________\n",
            "dense_76 (Dense)             (None, 3)                 387       \n",
            "=================================================================\n",
            "Total params: 6,197,652\n",
            "Trainable params: 6,197,652\n",
            "Non-trainable params: 0\n",
            "_________________________________________________________________\n"
          ],
          "name": "stdout"
        }
      ]
    },
    {
      "cell_type": "code",
      "metadata": {
        "id": "mxs7g_2UIeXl"
      },
      "source": [
        "from tensorflow.keras.preprocessing.image import ImageDataGenerator\n",
        "\n",
        "train_datagen = ImageDataGenerator(rescale = 1./255,\n",
        "                                   shear_range = 0.2,\n",
        "                                   zoom_range = 0.2,\n",
        "                                   horizontal_flip = True)\n",
        "\n",
        "test_datagen = ImageDataGenerator(rescale = 1./255)"
      ],
      "execution_count": 181,
      "outputs": []
    },
    {
      "cell_type": "code",
      "metadata": {
        "colab": {
          "base_uri": "https://localhost:8080/"
        },
        "id": "CNoTx4F0JDMJ",
        "outputId": "453162d7-731e-4bf6-ba8e-86c32dec5726"
      },
      "source": [
        "training_set = train_datagen.flow_from_directory('/content/drive/MyDrive/Datasets/TARGETS/TRAIN/17_DEG',\n",
        "                                                 target_size = (224, 224),\n",
        "                                                 batch_size = 32,\n",
        "                                                 class_mode = 'categorical')"
      ],
      "execution_count": 182,
      "outputs": [
        {
          "output_type": "stream",
          "text": [
            "Found 1622 images belonging to 3 classes.\n"
          ],
          "name": "stdout"
        }
      ]
    },
    {
      "cell_type": "code",
      "metadata": {
        "colab": {
          "base_uri": "https://localhost:8080/"
        },
        "id": "aiiOGFxpJJ60",
        "outputId": "ae1270ba-fb3a-4c62-c23a-4396744e4471"
      },
      "source": [
        "test_set = test_datagen.flow_from_directory('/content/drive/MyDrive/Datasets/TARGETS/TEST/15_DEG',\n",
        "                                            target_size = (224, 224),\n",
        "                                            batch_size = 32,\n",
        "                                            class_mode = 'categorical')"
      ],
      "execution_count": 183,
      "outputs": [
        {
          "output_type": "stream",
          "text": [
            "Found 1365 images belonging to 3 classes.\n"
          ],
          "name": "stdout"
        }
      ]
    },
    {
      "cell_type": "code",
      "metadata": {
        "colab": {
          "base_uri": "https://localhost:8080/"
        },
        "id": "OGB9yHKeJMhx",
        "outputId": "11f3b1a8-240a-47bf-eebc-05ac498bdfbe"
      },
      "source": [
        "r = model.fit_generator(\n",
        "  training_set,\n",
        "  validation_data=test_set,\n",
        "  epochs=100,\n",
        "  steps_per_epoch = len(training_set),\n",
        "  validation_steps = len(test_set)  \n",
        ")"
      ],
      "execution_count": 184,
      "outputs": [
        {
          "output_type": "stream",
          "text": [
            "/usr/local/lib/python3.6/dist-packages/tensorflow/python/keras/engine/training.py:1844: UserWarning: `Model.fit_generator` is deprecated and will be removed in a future version. Please use `Model.fit`, which supports generators.\n",
            "  warnings.warn('`Model.fit_generator` is deprecated and '\n"
          ],
          "name": "stderr"
        },
        {
          "output_type": "stream",
          "text": [
            "Epoch 1/100\n",
            "51/51 [==============================] - 22s 425ms/step - loss: 6.5612 - accuracy: 0.4361 - val_loss: 0.8846 - val_accuracy: 0.6689\n",
            "Epoch 2/100\n",
            "51/51 [==============================] - 21s 420ms/step - loss: 0.8752 - accuracy: 0.6730 - val_loss: 0.8016 - val_accuracy: 0.6791\n",
            "Epoch 3/100\n",
            "51/51 [==============================] - 22s 423ms/step - loss: 0.8258 - accuracy: 0.6640 - val_loss: 0.7688 - val_accuracy: 0.6974\n",
            "Epoch 4/100\n",
            "51/51 [==============================] - 22s 423ms/step - loss: 0.7873 - accuracy: 0.6704 - val_loss: 0.7312 - val_accuracy: 0.7429\n",
            "Epoch 5/100\n",
            "51/51 [==============================] - 21s 417ms/step - loss: 0.7345 - accuracy: 0.6998 - val_loss: 0.8114 - val_accuracy: 0.7077\n",
            "Epoch 6/100\n",
            "51/51 [==============================] - 21s 419ms/step - loss: 0.7662 - accuracy: 0.7010 - val_loss: 0.7577 - val_accuracy: 0.7282\n",
            "Epoch 7/100\n",
            "51/51 [==============================] - 21s 413ms/step - loss: 0.7552 - accuracy: 0.6948 - val_loss: 0.7728 - val_accuracy: 0.7187\n",
            "Epoch 8/100\n",
            "51/51 [==============================] - 21s 408ms/step - loss: 0.7013 - accuracy: 0.7449 - val_loss: 0.6185 - val_accuracy: 0.7531\n",
            "Epoch 9/100\n",
            "51/51 [==============================] - 22s 423ms/step - loss: 0.6721 - accuracy: 0.7210 - val_loss: 0.5935 - val_accuracy: 0.7810\n",
            "Epoch 10/100\n",
            "51/51 [==============================] - 21s 415ms/step - loss: 0.5891 - accuracy: 0.7614 - val_loss: 0.4899 - val_accuracy: 0.8051\n",
            "Epoch 11/100\n",
            "51/51 [==============================] - 21s 409ms/step - loss: 0.6506 - accuracy: 0.7511 - val_loss: 0.5467 - val_accuracy: 0.7919\n",
            "Epoch 12/100\n",
            "51/51 [==============================] - 21s 406ms/step - loss: 0.6938 - accuracy: 0.7216 - val_loss: 0.5051 - val_accuracy: 0.8147\n",
            "Epoch 13/100\n",
            "51/51 [==============================] - 21s 407ms/step - loss: 0.5686 - accuracy: 0.7829 - val_loss: 0.5049 - val_accuracy: 0.8059\n",
            "Epoch 14/100\n",
            "51/51 [==============================] - 21s 411ms/step - loss: 0.5534 - accuracy: 0.7743 - val_loss: 0.4763 - val_accuracy: 0.8059\n",
            "Epoch 15/100\n",
            "51/51 [==============================] - 21s 403ms/step - loss: 0.5139 - accuracy: 0.7981 - val_loss: 0.5863 - val_accuracy: 0.7670\n",
            "Epoch 16/100\n",
            "51/51 [==============================] - 20s 400ms/step - loss: 0.5125 - accuracy: 0.7928 - val_loss: 0.5155 - val_accuracy: 0.8161\n",
            "Epoch 17/100\n",
            "51/51 [==============================] - 21s 404ms/step - loss: 0.5698 - accuracy: 0.7662 - val_loss: 0.4579 - val_accuracy: 0.8286\n",
            "Epoch 18/100\n",
            "51/51 [==============================] - 21s 408ms/step - loss: 0.5354 - accuracy: 0.7761 - val_loss: 0.4357 - val_accuracy: 0.8198\n",
            "Epoch 19/100\n",
            "51/51 [==============================] - 21s 420ms/step - loss: 0.4998 - accuracy: 0.8046 - val_loss: 0.7259 - val_accuracy: 0.6879\n",
            "Epoch 20/100\n",
            "51/51 [==============================] - 22s 431ms/step - loss: 0.4785 - accuracy: 0.7979 - val_loss: 0.3679 - val_accuracy: 0.8476\n",
            "Epoch 21/100\n",
            "51/51 [==============================] - 22s 422ms/step - loss: 0.4029 - accuracy: 0.8399 - val_loss: 0.5813 - val_accuracy: 0.7575\n",
            "Epoch 22/100\n",
            "51/51 [==============================] - 21s 419ms/step - loss: 0.4359 - accuracy: 0.8319 - val_loss: 0.3746 - val_accuracy: 0.8557\n",
            "Epoch 23/100\n",
            "51/51 [==============================] - 21s 413ms/step - loss: 0.4332 - accuracy: 0.8142 - val_loss: 0.4319 - val_accuracy: 0.8168\n",
            "Epoch 24/100\n",
            "51/51 [==============================] - 22s 424ms/step - loss: 0.4006 - accuracy: 0.8301 - val_loss: 0.3430 - val_accuracy: 0.8579\n",
            "Epoch 25/100\n",
            "51/51 [==============================] - 21s 414ms/step - loss: 0.3790 - accuracy: 0.8514 - val_loss: 0.4081 - val_accuracy: 0.8183\n",
            "Epoch 26/100\n",
            "51/51 [==============================] - 21s 412ms/step - loss: 0.3800 - accuracy: 0.8599 - val_loss: 0.3996 - val_accuracy: 0.8271\n",
            "Epoch 27/100\n",
            "51/51 [==============================] - 21s 412ms/step - loss: 0.4314 - accuracy: 0.8151 - val_loss: 0.3716 - val_accuracy: 0.8513\n",
            "Epoch 28/100\n",
            "51/51 [==============================] - 21s 409ms/step - loss: 0.5222 - accuracy: 0.7797 - val_loss: 0.3296 - val_accuracy: 0.8689\n",
            "Epoch 29/100\n",
            "51/51 [==============================] - 21s 412ms/step - loss: 0.3747 - accuracy: 0.8427 - val_loss: 0.4180 - val_accuracy: 0.8242\n",
            "Epoch 30/100\n",
            "51/51 [==============================] - 21s 410ms/step - loss: 0.3638 - accuracy: 0.8481 - val_loss: 0.3115 - val_accuracy: 0.8718\n",
            "Epoch 31/100\n",
            "51/51 [==============================] - 21s 410ms/step - loss: 0.3175 - accuracy: 0.8803 - val_loss: 0.2686 - val_accuracy: 0.8967\n",
            "Epoch 32/100\n",
            "51/51 [==============================] - 21s 410ms/step - loss: 0.3683 - accuracy: 0.8695 - val_loss: 0.6255 - val_accuracy: 0.7399\n",
            "Epoch 33/100\n",
            "51/51 [==============================] - 21s 414ms/step - loss: 0.3907 - accuracy: 0.8514 - val_loss: 0.3256 - val_accuracy: 0.8681\n",
            "Epoch 34/100\n",
            "51/51 [==============================] - 21s 408ms/step - loss: 0.4172 - accuracy: 0.8319 - val_loss: 0.3064 - val_accuracy: 0.8711\n",
            "Epoch 35/100\n",
            "51/51 [==============================] - 21s 410ms/step - loss: 0.2691 - accuracy: 0.9021 - val_loss: 0.3040 - val_accuracy: 0.8872\n",
            "Epoch 36/100\n",
            "51/51 [==============================] - 21s 410ms/step - loss: 0.3309 - accuracy: 0.8759 - val_loss: 0.2622 - val_accuracy: 0.8967\n",
            "Epoch 37/100\n",
            "51/51 [==============================] - 21s 412ms/step - loss: 0.2960 - accuracy: 0.8772 - val_loss: 0.2935 - val_accuracy: 0.8733\n",
            "Epoch 38/100\n",
            "51/51 [==============================] - 21s 414ms/step - loss: 0.2781 - accuracy: 0.8944 - val_loss: 0.2801 - val_accuracy: 0.8879\n",
            "Epoch 39/100\n",
            "51/51 [==============================] - 21s 418ms/step - loss: 0.2773 - accuracy: 0.8964 - val_loss: 0.2762 - val_accuracy: 0.8938\n",
            "Epoch 40/100\n",
            "51/51 [==============================] - 21s 409ms/step - loss: 0.3126 - accuracy: 0.8702 - val_loss: 0.2614 - val_accuracy: 0.9070\n",
            "Epoch 41/100\n",
            "51/51 [==============================] - 21s 406ms/step - loss: 0.2854 - accuracy: 0.8975 - val_loss: 0.2712 - val_accuracy: 0.8864\n",
            "Epoch 42/100\n",
            "51/51 [==============================] - 21s 407ms/step - loss: 0.3063 - accuracy: 0.8730 - val_loss: 0.3554 - val_accuracy: 0.8432\n",
            "Epoch 43/100\n",
            "51/51 [==============================] - 21s 406ms/step - loss: 0.2680 - accuracy: 0.8812 - val_loss: 0.2802 - val_accuracy: 0.8952\n",
            "Epoch 44/100\n",
            "51/51 [==============================] - 21s 407ms/step - loss: 0.3290 - accuracy: 0.8569 - val_loss: 0.3673 - val_accuracy: 0.8366\n",
            "Epoch 45/100\n",
            "51/51 [==============================] - 21s 407ms/step - loss: 0.3253 - accuracy: 0.8854 - val_loss: 0.4079 - val_accuracy: 0.8381\n",
            "Epoch 46/100\n",
            "51/51 [==============================] - 21s 404ms/step - loss: 0.3339 - accuracy: 0.8521 - val_loss: 0.2684 - val_accuracy: 0.8908\n",
            "Epoch 47/100\n",
            "51/51 [==============================] - 20s 401ms/step - loss: 0.2778 - accuracy: 0.8973 - val_loss: 0.2415 - val_accuracy: 0.9018\n",
            "Epoch 48/100\n",
            "51/51 [==============================] - 21s 404ms/step - loss: 0.2532 - accuracy: 0.9026 - val_loss: 0.3223 - val_accuracy: 0.8645\n",
            "Epoch 49/100\n",
            "51/51 [==============================] - 21s 402ms/step - loss: 0.2964 - accuracy: 0.8829 - val_loss: 0.2969 - val_accuracy: 0.8879\n",
            "Epoch 50/100\n",
            "51/51 [==============================] - 21s 405ms/step - loss: 0.3014 - accuracy: 0.8720 - val_loss: 0.3076 - val_accuracy: 0.8806\n",
            "Epoch 51/100\n",
            "51/51 [==============================] - 20s 401ms/step - loss: 0.2490 - accuracy: 0.9071 - val_loss: 0.2584 - val_accuracy: 0.9018\n",
            "Epoch 52/100\n",
            "51/51 [==============================] - 21s 405ms/step - loss: 0.2679 - accuracy: 0.8974 - val_loss: 0.3013 - val_accuracy: 0.8769\n",
            "Epoch 53/100\n",
            "51/51 [==============================] - 21s 407ms/step - loss: 0.2767 - accuracy: 0.8968 - val_loss: 0.3367 - val_accuracy: 0.8579\n",
            "Epoch 54/100\n",
            "51/51 [==============================] - 21s 413ms/step - loss: 0.2462 - accuracy: 0.9071 - val_loss: 0.2520 - val_accuracy: 0.8916\n",
            "Epoch 55/100\n",
            "51/51 [==============================] - 20s 398ms/step - loss: 0.2723 - accuracy: 0.8911 - val_loss: 0.3315 - val_accuracy: 0.8747\n",
            "Epoch 56/100\n",
            "51/51 [==============================] - 21s 404ms/step - loss: 0.3006 - accuracy: 0.8751 - val_loss: 0.2710 - val_accuracy: 0.9011\n",
            "Epoch 57/100\n",
            "51/51 [==============================] - 20s 402ms/step - loss: 0.2787 - accuracy: 0.8816 - val_loss: 0.2780 - val_accuracy: 0.8718\n",
            "Epoch 58/100\n",
            "51/51 [==============================] - 20s 402ms/step - loss: 0.2825 - accuracy: 0.8904 - val_loss: 0.3420 - val_accuracy: 0.8542\n",
            "Epoch 59/100\n",
            "51/51 [==============================] - 20s 402ms/step - loss: 0.2552 - accuracy: 0.8965 - val_loss: 0.5210 - val_accuracy: 0.8088\n",
            "Epoch 60/100\n",
            "51/51 [==============================] - 21s 407ms/step - loss: 0.3000 - accuracy: 0.8954 - val_loss: 0.2545 - val_accuracy: 0.8996\n",
            "Epoch 61/100\n",
            "51/51 [==============================] - 21s 405ms/step - loss: 0.2554 - accuracy: 0.8892 - val_loss: 0.3074 - val_accuracy: 0.8828\n",
            "Epoch 62/100\n",
            "51/51 [==============================] - 21s 403ms/step - loss: 0.2307 - accuracy: 0.9081 - val_loss: 0.2814 - val_accuracy: 0.8908\n",
            "Epoch 63/100\n",
            "51/51 [==============================] - 21s 404ms/step - loss: 0.2428 - accuracy: 0.9052 - val_loss: 0.3197 - val_accuracy: 0.8799\n",
            "Epoch 64/100\n",
            "51/51 [==============================] - 21s 404ms/step - loss: 0.2584 - accuracy: 0.8999 - val_loss: 0.2804 - val_accuracy: 0.8813\n",
            "Epoch 65/100\n",
            "51/51 [==============================] - 21s 405ms/step - loss: 0.2475 - accuracy: 0.9140 - val_loss: 0.3328 - val_accuracy: 0.8608\n",
            "Epoch 66/100\n",
            "51/51 [==============================] - 21s 405ms/step - loss: 0.2544 - accuracy: 0.9040 - val_loss: 0.2608 - val_accuracy: 0.8923\n",
            "Epoch 67/100\n",
            "51/51 [==============================] - 21s 404ms/step - loss: 0.2277 - accuracy: 0.9152 - val_loss: 0.2836 - val_accuracy: 0.8945\n",
            "Epoch 68/100\n",
            "51/51 [==============================] - 21s 408ms/step - loss: 0.2461 - accuracy: 0.8962 - val_loss: 0.2679 - val_accuracy: 0.8872\n",
            "Epoch 69/100\n",
            "51/51 [==============================] - 21s 410ms/step - loss: 0.2465 - accuracy: 0.9111 - val_loss: 0.3131 - val_accuracy: 0.8821\n",
            "Epoch 70/100\n",
            "51/51 [==============================] - 21s 403ms/step - loss: 0.3279 - accuracy: 0.8627 - val_loss: 0.3475 - val_accuracy: 0.8542\n",
            "Epoch 71/100\n",
            "51/51 [==============================] - 21s 404ms/step - loss: 0.3186 - accuracy: 0.8713 - val_loss: 0.2514 - val_accuracy: 0.9033\n",
            "Epoch 72/100\n",
            "51/51 [==============================] - 21s 406ms/step - loss: 0.2451 - accuracy: 0.8981 - val_loss: 0.3482 - val_accuracy: 0.8557\n",
            "Epoch 73/100\n",
            "51/51 [==============================] - 20s 401ms/step - loss: 0.2545 - accuracy: 0.8945 - val_loss: 0.4652 - val_accuracy: 0.8388\n",
            "Epoch 74/100\n",
            "51/51 [==============================] - 21s 402ms/step - loss: 0.2522 - accuracy: 0.9032 - val_loss: 0.3233 - val_accuracy: 0.8659\n",
            "Epoch 75/100\n",
            "51/51 [==============================] - 20s 401ms/step - loss: 0.1972 - accuracy: 0.9246 - val_loss: 0.2293 - val_accuracy: 0.9062\n",
            "Epoch 76/100\n",
            "51/51 [==============================] - 21s 405ms/step - loss: 0.1963 - accuracy: 0.9304 - val_loss: 0.2914 - val_accuracy: 0.8864\n",
            "Epoch 77/100\n",
            "51/51 [==============================] - 21s 405ms/step - loss: 0.2379 - accuracy: 0.9096 - val_loss: 0.2663 - val_accuracy: 0.8945\n",
            "Epoch 78/100\n",
            "51/51 [==============================] - 21s 404ms/step - loss: 0.1948 - accuracy: 0.9167 - val_loss: 0.2786 - val_accuracy: 0.8828\n",
            "Epoch 79/100\n",
            "51/51 [==============================] - 21s 404ms/step - loss: 0.2117 - accuracy: 0.9184 - val_loss: 0.2631 - val_accuracy: 0.8960\n",
            "Epoch 80/100\n",
            "51/51 [==============================] - 21s 407ms/step - loss: 0.1840 - accuracy: 0.9310 - val_loss: 0.3714 - val_accuracy: 0.8462\n",
            "Epoch 81/100\n",
            "51/51 [==============================] - 21s 403ms/step - loss: 0.2274 - accuracy: 0.9094 - val_loss: 0.2351 - val_accuracy: 0.9128\n",
            "Epoch 82/100\n",
            "51/51 [==============================] - 20s 402ms/step - loss: 0.1609 - accuracy: 0.9434 - val_loss: 0.2467 - val_accuracy: 0.8989\n",
            "Epoch 83/100\n",
            "51/51 [==============================] - 21s 409ms/step - loss: 0.2474 - accuracy: 0.8964 - val_loss: 0.4177 - val_accuracy: 0.8645\n",
            "Epoch 84/100\n",
            "51/51 [==============================] - 21s 413ms/step - loss: 0.2702 - accuracy: 0.8897 - val_loss: 0.2625 - val_accuracy: 0.9033\n",
            "Epoch 85/100\n",
            "51/51 [==============================] - 20s 399ms/step - loss: 0.1985 - accuracy: 0.9217 - val_loss: 0.2397 - val_accuracy: 0.9040\n",
            "Epoch 86/100\n",
            "51/51 [==============================] - 20s 398ms/step - loss: 0.2364 - accuracy: 0.9148 - val_loss: 0.3866 - val_accuracy: 0.8418\n",
            "Epoch 87/100\n",
            "51/51 [==============================] - 20s 400ms/step - loss: 0.2491 - accuracy: 0.8940 - val_loss: 0.2139 - val_accuracy: 0.9216\n",
            "Epoch 88/100\n",
            "51/51 [==============================] - 20s 399ms/step - loss: 0.1674 - accuracy: 0.9348 - val_loss: 0.2306 - val_accuracy: 0.9092\n",
            "Epoch 89/100\n",
            "51/51 [==============================] - 20s 398ms/step - loss: 0.2023 - accuracy: 0.9244 - val_loss: 0.2294 - val_accuracy: 0.9150\n",
            "Epoch 90/100\n",
            "51/51 [==============================] - 20s 394ms/step - loss: 0.2221 - accuracy: 0.9112 - val_loss: 0.2250 - val_accuracy: 0.9121\n",
            "Epoch 91/100\n",
            "51/51 [==============================] - 20s 397ms/step - loss: 0.2044 - accuracy: 0.9136 - val_loss: 0.2220 - val_accuracy: 0.9136\n",
            "Epoch 92/100\n",
            "51/51 [==============================] - 20s 394ms/step - loss: 0.2099 - accuracy: 0.9229 - val_loss: 0.2259 - val_accuracy: 0.9099\n",
            "Epoch 93/100\n",
            "51/51 [==============================] - 20s 393ms/step - loss: 0.1889 - accuracy: 0.9274 - val_loss: 0.2281 - val_accuracy: 0.9092\n",
            "Epoch 94/100\n",
            "51/51 [==============================] - 20s 392ms/step - loss: 0.1931 - accuracy: 0.9184 - val_loss: 0.2610 - val_accuracy: 0.8967\n",
            "Epoch 95/100\n",
            "51/51 [==============================] - 20s 397ms/step - loss: 0.2046 - accuracy: 0.9116 - val_loss: 0.3750 - val_accuracy: 0.8579\n",
            "Epoch 96/100\n",
            "51/51 [==============================] - 20s 398ms/step - loss: 0.2179 - accuracy: 0.9197 - val_loss: 0.2741 - val_accuracy: 0.8960\n",
            "Epoch 97/100\n",
            "51/51 [==============================] - 20s 392ms/step - loss: 0.2097 - accuracy: 0.9125 - val_loss: 0.3034 - val_accuracy: 0.8762\n",
            "Epoch 98/100\n",
            "51/51 [==============================] - 20s 397ms/step - loss: 0.2050 - accuracy: 0.9218 - val_loss: 0.3150 - val_accuracy: 0.8762\n",
            "Epoch 99/100\n",
            "51/51 [==============================] - 21s 409ms/step - loss: 0.1940 - accuracy: 0.9266 - val_loss: 0.2352 - val_accuracy: 0.9092\n",
            "Epoch 100/100\n",
            "51/51 [==============================] - 20s 390ms/step - loss: 0.2176 - accuracy: 0.9146 - val_loss: 0.2681 - val_accuracy: 0.8938\n"
          ],
          "name": "stdout"
        }
      ]
    },
    {
      "cell_type": "code",
      "metadata": {
        "id": "wLMVXCz7EIpB"
      },
      "source": [
        "import matplotlib.pyplot as plt"
      ],
      "execution_count": 185,
      "outputs": []
    },
    {
      "cell_type": "code",
      "metadata": {
        "colab": {
          "base_uri": "https://localhost:8080/",
          "height": 531
        },
        "id": "CSAk0SdZD8NI",
        "outputId": "fd8b6e75-b299-4013-c049-4f1f4705a8b9"
      },
      "source": [
        "# plot the loss\r\n",
        "plt.plot(r.history['loss'], label='train loss')\r\n",
        "plt.plot(r.history['val_loss'], label='val loss')\r\n",
        "plt.legend()\r\n",
        "plt.show()\r\n",
        "plt.savefig('LossVal_loss')\r\n",
        "\r\n",
        "# plot the accuracy\r\n",
        "plt.plot(r.history['accuracy'], label='train acc')\r\n",
        "plt.plot(r.history['val_accuracy'], label='val acc')\r\n",
        "plt.legend()\r\n",
        "plt.show()\r\n",
        "plt.savefig('AccVal_acc')"
      ],
      "execution_count": 186,
      "outputs": [
        {
          "output_type": "display_data",
          "data": {
            "image/png": "[encoded data removed]",
            "text/plain": [
              "<Figure size 432x288 with 1 Axes>"
            ]
          },
          "metadata": {
            "tags": [],
            "needs_background": "light"
          }
        },
        {
          "output_type": "display_data",
          "data": {
            "image/png": "[encoded data removed]",
            "text/plain": [
              "<Figure size 432x288 with 1 Axes>"
            ]
          },
          "metadata": {
            "tags": [],
            "needs_background": "light"
          }
        },
        {
          "output_type": "display_data",
          "data": {
            "text/plain": [
              "<Figure size 432x288 with 0 Axes>"
            ]
          },
          "metadata": {
            "tags": []
          }
        }
      ]
    },
    {
      "cell_type": "code",
      "metadata": {
        "id": "E7NIEkPdJR9t"
      },
      "source": [
        "model = Sequential()\r\n",
        "\r\n",
        "\r\n",
        " \r\n",
        "\r\n",
        "model.add(Convolution2D(32, 1, 1, activation='relu',input_shape=IMAGE_SIZE + [3]))\r\n",
        "model.add(Convolution2D(32, 3, 3, activation='relu'))\r\n",
        "model.add(MaxPooling2D(pool_size=(2,2)))\r\n",
        "#model.add(Dropout(0.25))\r\n",
        "model.add(Convolution2D(32, 1, 1, activation='relu'))\r\n",
        "model.add(Convolution2D(32, 3, 3, activation='relu'))\r\n",
        "model.add(MaxPooling2D(pool_size=(2,2)))\r\n",
        "model.add(Convolution2D(64, 3, 3, activation='relu'))\r\n",
        "model.add(AveragePooling2D(pool_size=(2,2)))\r\n",
        "model.add(Dropout(0.5))\r\n",
        "\r\n",
        "model.add(Flatten())\r\n",
        "model.add(Dense(128, activation='relu'))\r\n",
        "model.add(Dense(3, activation='softmax'))"
      ],
      "execution_count": null,
      "outputs": []
    },
    {
      "cell_type": "code",
      "metadata": {
        "id": "IExB9IQf_cRA"
      },
      "source": [
        " \r\n",
        "model = Sequential()\r\n",
        "model.add(Convolution2D(16, 3, 3, activation='relu',padding='same',input_shape=IMAGE_SIZE + [3]))\r\n",
        "model.add(MaxPooling2D((2, 2), padding='same'))\r\n",
        "model.add(Convolution2D(8, 3, 3, activation='relu'))\r\n",
        "model.add(MaxPooling2D((2, 2), padding='same'))\r\n",
        "model.add(Convolution2D(8, 3, 3, activation='relu'))\r\n",
        "model.add(MaxPooling2D((2, 2), padding='same'))\r\n",
        "\r\n",
        "model.add(Convolution2D(8, 3, 3, activation='relu',padding='same'))\r\n",
        "model.add(UpSampling2D((2, 2), interpolation='bilinear'))\r\n",
        "model.add(Convolution2D(8, 3, 3, activation='relu',padding='same'))\r\n",
        "model.add(UpSampling2D((2, 2), interpolation='bilinear'))\r\n",
        "model.add(Convolution2D(16, 3, 3, activation='relu',padding='same'))\r\n",
        "model.add(UpSampling2D((2, 2), interpolation='bilinear'))\r\n",
        "model.add(Convolution2D(1, 3, 3, activation='relu',padding='same'))\r\n",
        "model.add(Dropout(0.25))\r\n",
        "\r\n",
        "model.add(Flatten())\r\n",
        "model.add(Dense(128, activation='relu'))\r\n",
        "model.add(Dense(3, activation='softmax'))"
      ],
      "execution_count": null,
      "outputs": []
    }
  ]
}