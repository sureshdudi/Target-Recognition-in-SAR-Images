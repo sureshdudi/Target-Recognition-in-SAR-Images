{
  "nbformat": 4,
  "nbformat_minor": 0,
  "metadata": {
    "accelerator": "GPU",
    "colab": {
      "name": "Satellite Image classification using Transfer Learning Inception V3.ipynb",
      "provenance": [],
      "collapsed_sections": []
    },
    "kernelspec": {
      "display_name": "Python 3",
      "language": "python",
      "name": "python3"
    },
    "language_info": {
      "codemirror_mode": {
        "name": "ipython",
        "version": 3
      },
      "file_extension": ".py",
      "mimetype": "text/x-python",
      "name": "python",
      "nbconvert_exporter": "python",
      "pygments_lexer": "ipython3",
      "version": "3.7.7"
    }
  },
  "cells": [
    {
      "cell_type": "markdown",
      "metadata": {
        "id": "3kBNyKYs84Vl"
      },
      "source": [
        "## Transfer Learning Inception V3 using Keras"
      ]
    },
    {
      "cell_type": "code",
      "metadata": {
        "colab": {
          "base_uri": "https://localhost:8080/"
        },
        "id": "dPvy6gdb87Q0",
        "outputId": "305226aa-fd5d-476e-f25b-2f3008ce4303"
      },
      "source": [
        "from google.colab import drive\n",
        "drive.mount('/content/drive/')"
      ],
      "execution_count": 1,
      "outputs": [
        {
          "output_type": "stream",
          "text": [
            "Drive already mounted at /content/drive/; to attempt to forcibly remount, call drive.mount(\"/content/drive/\", force_remount=True).\n"
          ],
          "name": "stdout"
        }
      ]
    },
    {
      "cell_type": "code",
      "metadata": {
        "id": "t7Mibdos87Nm"
      },
      "source": [
        "!pip install -q keras\n"
      ],
      "execution_count": 2,
      "outputs": []
    },
    {
      "cell_type": "code",
      "metadata": {
        "id": "BlSIBEjt87Li"
      },
      "source": [
        "import keras"
      ],
      "execution_count": 3,
      "outputs": []
    },
    {
      "cell_type": "code",
      "metadata": {
        "id": "RXi0M8DZ87IL"
      },
      "source": [
        ""
      ],
      "execution_count": 3,
      "outputs": []
    },
    {
      "cell_type": "code",
      "metadata": {
        "id": "OKs-S5F_87Gk"
      },
      "source": [
        ""
      ],
      "execution_count": 3,
      "outputs": []
    },
    {
      "cell_type": "code",
      "metadata": {
        "id": "LK4eWGWG866p"
      },
      "source": [
        ""
      ],
      "execution_count": 3,
      "outputs": []
    },
    {
      "cell_type": "markdown",
      "metadata": {
        "id": "rJSj5Ltc84Vn"
      },
      "source": [
        "Please download the dataset from the below url"
      ]
    },
    {
      "cell_type": "code",
      "metadata": {
        "id": "JCmcFlj084Vp"
      },
      "source": [
        "from tensorflow.compat.v1 import ConfigProto\n",
        "from tensorflow.compat.v1 import InteractiveSession\n",
        "\n",
        "config = ConfigProto()\n",
        "config.gpu_options.per_process_gpu_memory_fraction = 0.5\n",
        "config.gpu_options.allow_growth = True\n",
        "session = InteractiveSession(config=config)"
      ],
      "execution_count": 4,
      "outputs": []
    },
    {
      "cell_type": "code",
      "metadata": {
        "id": "Pgxfn7CZ84Vv"
      },
      "source": [
        "# import the libraries as shown below\n",
        "\n",
        "\n",
        "from keras.layers import Input, Lambda, Dense, Flatten\n",
        "from keras.models import Model\n",
        "#from keras.applications.resnet50 import ResNet50\n",
        "from keras.applications.vgg16 import VGG16\n",
        "from keras.applications.vgg16 import preprocess_input\n",
        "from keras.preprocessing import image\n",
        "from keras.preprocessing.image import ImageDataGenerator\n",
        "from keras.models import Sequential\n",
        "import numpy as np\n",
        "from glob import glob\n",
        "import matplotlib.pyplot as plt\n",
        "#import matplotlib.pyplot as plt"
      ],
      "execution_count": 5,
      "outputs": []
    },
    {
      "cell_type": "code",
      "metadata": {
        "id": "IQw9AATM84V1"
      },
      "source": [
        "# re-size all the images to this\n",
        "IMAGE_SIZE = [224, 224]\n",
        "\n",
        "train_path = '/content/drive/MyDrive/Datasets/dataset-satellitedata/train'\n",
        "valid_path = '/content/drive/MyDrive/Datasets/dataset-satellitedata/test'\n"
      ],
      "execution_count": 6,
      "outputs": []
    },
    {
      "cell_type": "code",
      "metadata": {
        "id": "fcmzSQAV84V6"
      },
      "source": [
        "# Import the Vgg 16 library as shown below and add preprocessing layer to the front of VGG\n",
        "# Here we will be using imagenet weights\n",
        "\n",
        "#inception = InceptionV3(input_shape=IMAGE_SIZE + [3], weights='imagenet', include_top=False)\n",
        "vgg = VGG16(input_shape=IMAGE_SIZE + [3], weights='imagenet', include_top=False)\n",
        "\n"
      ],
      "execution_count": 7,
      "outputs": []
    },
    {
      "cell_type": "code",
      "metadata": {
        "id": "vNakjfS984WA"
      },
      "source": [
        "# don't train existing weights\n",
        "for layer in vgg.layers:\n",
        "    layer.trainable = False"
      ],
      "execution_count": 8,
      "outputs": []
    },
    {
      "cell_type": "code",
      "metadata": {
        "colab": {
          "base_uri": "https://localhost:8080/"
        },
        "id": "95ZsHfzH84WF",
        "outputId": "293cc5e5-6500-4a8f-e35b-b0741d59d39b"
      },
      "source": [
        "  # useful for getting number of output classes\n",
        "folders = glob('/content/drive/MyDrive/Datasets/dataset-satellitedata/train/*')\n",
        "folders"
      ],
      "execution_count": 9,
      "outputs": [
        {
          "output_type": "execute_result",
          "data": {
            "text/plain": [
              "['/content/drive/MyDrive/Datasets/dataset-satellitedata/train/SN_132',\n",
              " '/content/drive/MyDrive/Datasets/dataset-satellitedata/train/SN_812',\n",
              " '/content/drive/MyDrive/Datasets/dataset-satellitedata/train/SN_9563',\n",
              " '/content/drive/MyDrive/Datasets/dataset-satellitedata/train/SN_C71',\n",
              " '/content/drive/MyDrive/Datasets/dataset-satellitedata/train/SN_C21',\n",
              " '/content/drive/MyDrive/Datasets/dataset-satellitedata/train/SN_9566',\n",
              " '/content/drive/MyDrive/Datasets/dataset-satellitedata/train/SN_S7']"
            ]
          },
          "metadata": {
            "tags": []
          },
          "execution_count": 9
        }
      ]
    },
    {
      "cell_type": "code",
      "metadata": {
        "colab": {
          "base_uri": "https://localhost:8080/"
        },
        "id": "4dJ2c7XJqN2L",
        "outputId": "92487c6a-91f7-4fd4-bfdd-61679f34bf57"
      },
      "source": [
        "len(folders)"
      ],
      "execution_count": 10,
      "outputs": [
        {
          "output_type": "execute_result",
          "data": {
            "text/plain": [
              "7"
            ]
          },
          "metadata": {
            "tags": []
          },
          "execution_count": 10
        }
      ]
    },
    {
      "cell_type": "code",
      "metadata": {
        "id": "lSYb_vkXqNw1"
      },
      "source": [
        ""
      ],
      "execution_count": 10,
      "outputs": []
    },
    {
      "cell_type": "code",
      "metadata": {
        "id": "gZw9OomO84WK"
      },
      "source": [
        "# our layers - you can add more if you want\n",
        "x = Flatten()(vgg.output)"
      ],
      "execution_count": 11,
      "outputs": []
    },
    {
      "cell_type": "code",
      "metadata": {
        "id": "wX0sOrwh84WQ"
      },
      "source": [
        "prediction = Dense(len(folders), activation='softmax')(x)\n",
        "\n",
        "# create a model object\n",
        "model = Model(inputs=vgg.input, outputs=prediction)"
      ],
      "execution_count": 12,
      "outputs": []
    },
    {
      "cell_type": "code",
      "metadata": {
        "colab": {
          "base_uri": "https://localhost:8080/"
        },
        "id": "d4fVvOzO84WX",
        "outputId": "3edf26fb-fe56-40d0-aa34-e712cd54841f"
      },
      "source": [
        "\n",
        "# view the structure of the model\n",
        "model.summary()\n"
      ],
      "execution_count": 13,
      "outputs": [
        {
          "output_type": "stream",
          "text": [
            "Model: \"functional_1\"\n",
            "_________________________________________________________________\n",
            "Layer (type)                 Output Shape              Param #   \n",
            "=================================================================\n",
            "input_1 (InputLayer)         [(None, 224, 224, 3)]     0         \n",
            "_________________________________________________________________\n",
            "block1_conv1 (Conv2D)        (None, 224, 224, 64)      1792      \n",
            "_________________________________________________________________\n",
            "block1_conv2 (Conv2D)        (None, 224, 224, 64)      36928     \n",
            "_________________________________________________________________\n",
            "block1_pool (MaxPooling2D)   (None, 112, 112, 64)      0         \n",
            "_________________________________________________________________\n",
            "block2_conv1 (Conv2D)        (None, 112, 112, 128)     73856     \n",
            "_________________________________________________________________\n",
            "block2_conv2 (Conv2D)        (None, 112, 112, 128)     147584    \n",
            "_________________________________________________________________\n",
            "block2_pool (MaxPooling2D)   (None, 56, 56, 128)       0         \n",
            "_________________________________________________________________\n",
            "block3_conv1 (Conv2D)        (None, 56, 56, 256)       295168    \n",
            "_________________________________________________________________\n",
            "block3_conv2 (Conv2D)        (None, 56, 56, 256)       590080    \n",
            "_________________________________________________________________\n",
            "block3_conv3 (Conv2D)        (None, 56, 56, 256)       590080    \n",
            "_________________________________________________________________\n",
            "block3_pool (MaxPooling2D)   (None, 28, 28, 256)       0         \n",
            "_________________________________________________________________\n",
            "block4_conv1 (Conv2D)        (None, 28, 28, 512)       1180160   \n",
            "_________________________________________________________________\n",
            "block4_conv2 (Conv2D)        (None, 28, 28, 512)       2359808   \n",
            "_________________________________________________________________\n",
            "block4_conv3 (Conv2D)        (None, 28, 28, 512)       2359808   \n",
            "_________________________________________________________________\n",
            "block4_pool (MaxPooling2D)   (None, 14, 14, 512)       0         \n",
            "_________________________________________________________________\n",
            "block5_conv1 (Conv2D)        (None, 14, 14, 512)       2359808   \n",
            "_________________________________________________________________\n",
            "block5_conv2 (Conv2D)        (None, 14, 14, 512)       2359808   \n",
            "_________________________________________________________________\n",
            "block5_conv3 (Conv2D)        (None, 14, 14, 512)       2359808   \n",
            "_________________________________________________________________\n",
            "block5_pool (MaxPooling2D)   (None, 7, 7, 512)         0         \n",
            "_________________________________________________________________\n",
            "flatten (Flatten)            (None, 25088)             0         \n",
            "_________________________________________________________________\n",
            "dense (Dense)                (None, 7)                 175623    \n",
            "=================================================================\n",
            "Total params: 14,890,311\n",
            "Trainable params: 175,623\n",
            "Non-trainable params: 14,714,688\n",
            "_________________________________________________________________\n"
          ],
          "name": "stdout"
        }
      ]
    },
    {
      "cell_type": "code",
      "metadata": {
        "id": "EAj7GGlW84Wd"
      },
      "source": [
        "# tell the model what cost and optimization method to use\n",
        "model.compile(\n",
        "  loss='categorical_crossentropy',\n",
        "  optimizer='adam',\n",
        "  metrics=['accuracy']\n",
        ")\n"
      ],
      "execution_count": 14,
      "outputs": []
    },
    {
      "cell_type": "code",
      "metadata": {
        "id": "3gALqJV384Wi"
      },
      "source": [
        "# Use the Image Data Generator to import the images from the dataset\n",
        "from tensorflow.keras.preprocessing.image import ImageDataGenerator\n",
        "\n",
        "train_datagen = ImageDataGenerator(rescale = 1./255,\n",
        "                                   shear_range = 0.2,\n",
        "                                   zoom_range = 0.2,\n",
        "                                   horizontal_flip = True)\n",
        "\n",
        "test_datagen = ImageDataGenerator(rescale = 1./255)"
      ],
      "execution_count": 15,
      "outputs": []
    },
    {
      "cell_type": "code",
      "metadata": {
        "colab": {
          "base_uri": "https://localhost:8080/"
        },
        "id": "XE7_Geqf84Wn",
        "outputId": "031d57cb-a5f0-459a-b3b9-9f9426512dec"
      },
      "source": [
        "# Make sure you provide the same target size as initialied for the image size\n",
        "training_set = train_datagen.flow_from_directory('/content/drive/MyDrive/Datasets/dataset-satellitedata/train',\n",
        "                                                 target_size = (224, 224),\n",
        "                                                 batch_size = 32,\n",
        "                                                 class_mode = 'categorical')"
      ],
      "execution_count": 16,
      "outputs": [
        {
          "output_type": "stream",
          "text": [
            "Found 1622 images belonging to 7 classes.\n"
          ],
          "name": "stdout"
        }
      ]
    },
    {
      "cell_type": "code",
      "metadata": {
        "colab": {
          "base_uri": "https://localhost:8080/"
        },
        "id": "RJFLvv_184Wr",
        "outputId": "9ea6bc22-9a7d-461c-f34a-35d77add4bd5"
      },
      "source": [
        "test_set = test_datagen.flow_from_directory('/content/drive/MyDrive/Datasets/dataset-satellitedata/test',\n",
        "                                            target_size = (224, 224),\n",
        "                                            batch_size = 32,\n",
        "                                            class_mode = 'categorical')"
      ],
      "execution_count": 17,
      "outputs": [
        {
          "output_type": "stream",
          "text": [
            "Found 1365 images belonging to 7 classes.\n"
          ],
          "name": "stdout"
        }
      ]
    },
    {
      "cell_type": "code",
      "metadata": {
        "colab": {
          "base_uri": "https://localhost:8080/"
        },
        "id": "F1hi9Iqe4-4A",
        "outputId": "ae2bb77e-04d4-4277-e905-e4e575be1593"
      },
      "source": [
        "!pip install --upgrade pip"
      ],
      "execution_count": 18,
      "outputs": [
        {
          "output_type": "stream",
          "text": [
            "Requirement already up-to-date: pip in /usr/local/lib/python3.6/dist-packages (20.2.4)\n"
          ],
          "name": "stdout"
        }
      ]
    },
    {
      "cell_type": "code",
      "metadata": {
        "colab": {
          "base_uri": "https://localhost:8080/"
        },
        "id": "Fe_Y0aWF5Haz",
        "outputId": "8a01f428-3f81-4acd-fabc-9109752f55b7"
      },
      "source": [
        "!pip install --upgrade Pillow"
      ],
      "execution_count": 19,
      "outputs": [
        {
          "output_type": "stream",
          "text": [
            "Requirement already up-to-date: Pillow in /usr/local/lib/python3.6/dist-packages (8.0.1)\n"
          ],
          "name": "stdout"
        }
      ]
    },
    {
      "cell_type": "code",
      "metadata": {
        "colab": {
          "base_uri": "https://localhost:8080/"
        },
        "id": "NCreyrHY84Ww",
        "scrolled": true,
        "outputId": "ae0c7004-665c-42b9-dff2-9ff1a9fc359f"
      },
      "source": [
        "r = model.fit_generator(\n",
        "  training_set,\n",
        "  validation_data=test_set,\n",
        "  epochs=300,\n",
        "  steps_per_epoch = len(training_set),\n",
        "  validation_steps = len(test_set)\n",
        ")"
      ],
      "execution_count": 20,
      "outputs": [
        {
          "output_type": "stream",
          "text": [
            "WARNING:tensorflow:From <ipython-input-20-2ddadce75e61>:6: Model.fit_generator (from tensorflow.python.keras.engine.training) is deprecated and will be removed in a future version.\n",
            "Instructions for updating:\n",
            "Please use Model.fit, which supports generators.\n",
            "Epoch 1/300\n",
            "51/51 [==============================] - 1532s 30s/step - loss: 2.0094 - accuracy: 0.2115 - val_loss: 1.7465 - val_accuracy: 0.2762\n",
            "Epoch 2/300\n",
            "51/51 [==============================] - 22s 427ms/step - loss: 1.7598 - accuracy: 0.2842 - val_loss: 1.7712 - val_accuracy: 0.2835\n",
            "Epoch 3/300\n",
            "51/51 [==============================] - 21s 420ms/step - loss: 1.6340 - accuracy: 0.3508 - val_loss: 1.7279 - val_accuracy: 0.2828\n",
            "Epoch 4/300\n",
            "51/51 [==============================] - 22s 425ms/step - loss: 1.6055 - accuracy: 0.3619 - val_loss: 1.7691 - val_accuracy: 0.2886\n",
            "Epoch 5/300\n",
            "51/51 [==============================] - 21s 419ms/step - loss: 1.5034 - accuracy: 0.4106 - val_loss: 1.7796 - val_accuracy: 0.2894\n",
            "Epoch 6/300\n",
            "51/51 [==============================] - 21s 417ms/step - loss: 1.5288 - accuracy: 0.3859 - val_loss: 1.5878 - val_accuracy: 0.3304\n",
            "Epoch 7/300\n",
            "51/51 [==============================] - 21s 420ms/step - loss: 1.4516 - accuracy: 0.4088 - val_loss: 1.7292 - val_accuracy: 0.2696\n",
            "Epoch 8/300\n",
            "51/51 [==============================] - 22s 425ms/step - loss: 1.4643 - accuracy: 0.4359 - val_loss: 1.7330 - val_accuracy: 0.2791\n",
            "Epoch 9/300\n",
            "51/51 [==============================] - 21s 419ms/step - loss: 1.4022 - accuracy: 0.4427 - val_loss: 1.6711 - val_accuracy: 0.3355\n",
            "Epoch 10/300\n",
            "51/51 [==============================] - 21s 418ms/step - loss: 1.2953 - accuracy: 0.4963 - val_loss: 1.6235 - val_accuracy: 0.3253\n",
            "Epoch 11/300\n",
            "51/51 [==============================] - 22s 435ms/step - loss: 1.2703 - accuracy: 0.5025 - val_loss: 1.6606 - val_accuracy: 0.3612\n",
            "Epoch 12/300\n",
            "51/51 [==============================] - 24s 474ms/step - loss: 1.3061 - accuracy: 0.5055 - val_loss: 1.7701 - val_accuracy: 0.3209\n",
            "Epoch 13/300\n",
            "51/51 [==============================] - 21s 421ms/step - loss: 1.2464 - accuracy: 0.5197 - val_loss: 1.6280 - val_accuracy: 0.3319\n",
            "Epoch 14/300\n",
            "51/51 [==============================] - 21s 417ms/step - loss: 1.1963 - accuracy: 0.5395 - val_loss: 1.5539 - val_accuracy: 0.3509\n",
            "Epoch 15/300\n",
            "51/51 [==============================] - 22s 424ms/step - loss: 1.1699 - accuracy: 0.5641 - val_loss: 1.4958 - val_accuracy: 0.3846\n",
            "Epoch 16/300\n",
            "51/51 [==============================] - 21s 419ms/step - loss: 1.1726 - accuracy: 0.5499 - val_loss: 1.6806 - val_accuracy: 0.3319\n",
            "Epoch 17/300\n",
            "51/51 [==============================] - 21s 417ms/step - loss: 1.1645 - accuracy: 0.5617 - val_loss: 1.8490 - val_accuracy: 0.3062\n",
            "Epoch 18/300\n",
            "51/51 [==============================] - 22s 424ms/step - loss: 1.1571 - accuracy: 0.5555 - val_loss: 1.6182 - val_accuracy: 0.3663\n",
            "Epoch 19/300\n",
            "51/51 [==============================] - 22s 428ms/step - loss: 1.0438 - accuracy: 0.6215 - val_loss: 1.5323 - val_accuracy: 0.3729\n",
            "Epoch 20/300\n",
            "51/51 [==============================] - 22s 424ms/step - loss: 1.0324 - accuracy: 0.6178 - val_loss: 1.5841 - val_accuracy: 0.3443\n",
            "Epoch 21/300\n",
            "51/51 [==============================] - 22s 426ms/step - loss: 1.0559 - accuracy: 0.6060 - val_loss: 1.5642 - val_accuracy: 0.3751\n",
            "Epoch 22/300\n",
            "51/51 [==============================] - 22s 435ms/step - loss: 0.9919 - accuracy: 0.6430 - val_loss: 1.6054 - val_accuracy: 0.3333\n",
            "Epoch 23/300\n",
            "51/51 [==============================] - 22s 423ms/step - loss: 1.0255 - accuracy: 0.6227 - val_loss: 1.5310 - val_accuracy: 0.3582\n",
            "Epoch 24/300\n",
            "51/51 [==============================] - 21s 422ms/step - loss: 0.9424 - accuracy: 0.6683 - val_loss: 1.5176 - val_accuracy: 0.3949\n",
            "Epoch 25/300\n",
            "51/51 [==============================] - 22s 438ms/step - loss: 0.9698 - accuracy: 0.6517 - val_loss: 1.6067 - val_accuracy: 0.3802\n",
            "Epoch 26/300\n",
            "51/51 [==============================] - 22s 431ms/step - loss: 0.9741 - accuracy: 0.6510 - val_loss: 1.6038 - val_accuracy: 0.3634\n",
            "Epoch 27/300\n",
            "51/51 [==============================] - 22s 424ms/step - loss: 0.9873 - accuracy: 0.6239 - val_loss: 1.7006 - val_accuracy: 0.3311\n",
            "Epoch 28/300\n",
            "51/51 [==============================] - 22s 423ms/step - loss: 0.9594 - accuracy: 0.6517 - val_loss: 1.5017 - val_accuracy: 0.3905\n",
            "Epoch 29/300\n",
            "51/51 [==============================] - 22s 431ms/step - loss: 0.9161 - accuracy: 0.6640 - val_loss: 1.6755 - val_accuracy: 0.3495\n",
            "Epoch 30/300\n",
            "51/51 [==============================] - 22s 424ms/step - loss: 0.9094 - accuracy: 0.6652 - val_loss: 1.5770 - val_accuracy: 0.3839\n",
            "Epoch 31/300\n",
            "51/51 [==============================] - 22s 422ms/step - loss: 0.9210 - accuracy: 0.6658 - val_loss: 1.5446 - val_accuracy: 0.3736\n",
            "Epoch 32/300\n",
            "51/51 [==============================] - 21s 421ms/step - loss: 0.8648 - accuracy: 0.7041 - val_loss: 1.5200 - val_accuracy: 0.3832\n",
            "Epoch 33/300\n",
            "51/51 [==============================] - 22s 428ms/step - loss: 0.8539 - accuracy: 0.7090 - val_loss: 1.5262 - val_accuracy: 0.4168\n",
            "Epoch 34/300\n",
            "51/51 [==============================] - 21s 419ms/step - loss: 0.8214 - accuracy: 0.7084 - val_loss: 1.7224 - val_accuracy: 0.3641\n",
            "Epoch 35/300\n",
            "51/51 [==============================] - 22s 424ms/step - loss: 0.8578 - accuracy: 0.6942 - val_loss: 1.5885 - val_accuracy: 0.3780\n",
            "Epoch 36/300\n",
            "51/51 [==============================] - 22s 423ms/step - loss: 0.8855 - accuracy: 0.6788 - val_loss: 1.7381 - val_accuracy: 0.3341\n",
            "Epoch 37/300\n",
            "51/51 [==============================] - 22s 422ms/step - loss: 0.8214 - accuracy: 0.7004 - val_loss: 1.6876 - val_accuracy: 0.3780\n",
            "Epoch 38/300\n",
            "51/51 [==============================] - 21s 421ms/step - loss: 0.8364 - accuracy: 0.6973 - val_loss: 1.6177 - val_accuracy: 0.3773\n",
            "Epoch 39/300\n",
            "51/51 [==============================] - 22s 433ms/step - loss: 0.7870 - accuracy: 0.7318 - val_loss: 1.6750 - val_accuracy: 0.3656\n",
            "Epoch 40/300\n",
            "51/51 [==============================] - 22s 441ms/step - loss: 0.7782 - accuracy: 0.7355 - val_loss: 1.6777 - val_accuracy: 0.3736\n",
            "Epoch 41/300\n",
            "51/51 [==============================] - 21s 420ms/step - loss: 0.7658 - accuracy: 0.7312 - val_loss: 1.5981 - val_accuracy: 0.3905\n",
            "Epoch 42/300\n",
            "51/51 [==============================] - 21s 420ms/step - loss: 0.7472 - accuracy: 0.7429 - val_loss: 1.5742 - val_accuracy: 0.3861\n",
            "Epoch 43/300\n",
            "51/51 [==============================] - 21s 420ms/step - loss: 0.7466 - accuracy: 0.7429 - val_loss: 1.6424 - val_accuracy: 0.3531\n",
            "Epoch 44/300\n",
            "51/51 [==============================] - 22s 425ms/step - loss: 0.7210 - accuracy: 0.7589 - val_loss: 1.6071 - val_accuracy: 0.3685\n",
            "Epoch 45/300\n",
            "51/51 [==============================] - 21s 418ms/step - loss: 0.7129 - accuracy: 0.7614 - val_loss: 1.4734 - val_accuracy: 0.4154\n",
            "Epoch 46/300\n",
            "51/51 [==============================] - 22s 422ms/step - loss: 0.7224 - accuracy: 0.7645 - val_loss: 1.6208 - val_accuracy: 0.3883\n",
            "Epoch 47/300\n",
            "51/51 [==============================] - 22s 423ms/step - loss: 0.7336 - accuracy: 0.7485 - val_loss: 1.6925 - val_accuracy: 0.3780\n",
            "Epoch 48/300\n",
            "51/51 [==============================] - 22s 425ms/step - loss: 0.7420 - accuracy: 0.7312 - val_loss: 1.6101 - val_accuracy: 0.3832\n",
            "Epoch 49/300\n",
            "51/51 [==============================] - 21s 421ms/step - loss: 0.7347 - accuracy: 0.7361 - val_loss: 1.5377 - val_accuracy: 0.3868\n",
            "Epoch 50/300\n",
            "51/51 [==============================] - 21s 419ms/step - loss: 0.6686 - accuracy: 0.7756 - val_loss: 1.5366 - val_accuracy: 0.4073\n",
            "Epoch 51/300\n",
            "51/51 [==============================] - 22s 423ms/step - loss: 0.6497 - accuracy: 0.7941 - val_loss: 1.6536 - val_accuracy: 0.3839\n",
            "Epoch 52/300\n",
            "51/51 [==============================] - 21s 416ms/step - loss: 0.6908 - accuracy: 0.7657 - val_loss: 1.7489 - val_accuracy: 0.3648\n",
            "Epoch 53/300\n",
            "51/51 [==============================] - 22s 423ms/step - loss: 0.6754 - accuracy: 0.7725 - val_loss: 1.6223 - val_accuracy: 0.4095\n",
            "Epoch 54/300\n",
            "51/51 [==============================] - 22s 427ms/step - loss: 0.6335 - accuracy: 0.7947 - val_loss: 1.5233 - val_accuracy: 0.4044\n",
            "Epoch 55/300\n",
            "51/51 [==============================] - 22s 426ms/step - loss: 0.6424 - accuracy: 0.7855 - val_loss: 1.5344 - val_accuracy: 0.4022\n",
            "Epoch 56/300\n",
            "51/51 [==============================] - 21s 418ms/step - loss: 0.6268 - accuracy: 0.8138 - val_loss: 1.5783 - val_accuracy: 0.3883\n",
            "Epoch 57/300\n",
            "51/51 [==============================] - 21s 420ms/step - loss: 0.6637 - accuracy: 0.7737 - val_loss: 1.7063 - val_accuracy: 0.3839\n",
            "Epoch 58/300\n",
            "51/51 [==============================] - 22s 422ms/step - loss: 0.6684 - accuracy: 0.7700 - val_loss: 1.7234 - val_accuracy: 0.3868\n",
            "Epoch 59/300\n",
            "51/51 [==============================] - 21s 419ms/step - loss: 0.6357 - accuracy: 0.7867 - val_loss: 1.5572 - val_accuracy: 0.4000\n",
            "Epoch 60/300\n",
            "51/51 [==============================] - 21s 419ms/step - loss: 0.6248 - accuracy: 0.7824 - val_loss: 1.5954 - val_accuracy: 0.4015\n",
            "Epoch 61/300\n",
            "51/51 [==============================] - 21s 420ms/step - loss: 0.6134 - accuracy: 0.7984 - val_loss: 1.8354 - val_accuracy: 0.3297\n",
            "Epoch 62/300\n",
            "51/51 [==============================] - 22s 424ms/step - loss: 0.6504 - accuracy: 0.7682 - val_loss: 1.7748 - val_accuracy: 0.3451\n",
            "Epoch 63/300\n",
            "51/51 [==============================] - 21s 420ms/step - loss: 0.6038 - accuracy: 0.7965 - val_loss: 1.6883 - val_accuracy: 0.3744\n",
            "Epoch 64/300\n",
            "51/51 [==============================] - 21s 417ms/step - loss: 0.6049 - accuracy: 0.8132 - val_loss: 1.5450 - val_accuracy: 0.4103\n",
            "Epoch 65/300\n",
            "51/51 [==============================] - 21s 420ms/step - loss: 0.6151 - accuracy: 0.8033 - val_loss: 1.6029 - val_accuracy: 0.4073\n",
            "Epoch 66/300\n",
            "51/51 [==============================] - 22s 432ms/step - loss: 0.5849 - accuracy: 0.8027 - val_loss: 1.5413 - val_accuracy: 0.4139\n",
            "Epoch 67/300\n",
            "51/51 [==============================] - 22s 429ms/step - loss: 0.6219 - accuracy: 0.7947 - val_loss: 1.6525 - val_accuracy: 0.3722\n",
            "Epoch 68/300\n",
            "51/51 [==============================] - 23s 447ms/step - loss: 0.6381 - accuracy: 0.7700 - val_loss: 1.7160 - val_accuracy: 0.3597\n",
            "Epoch 69/300\n",
            "51/51 [==============================] - 22s 427ms/step - loss: 0.5781 - accuracy: 0.8058 - val_loss: 1.6402 - val_accuracy: 0.4007\n",
            "Epoch 70/300\n",
            "51/51 [==============================] - 22s 424ms/step - loss: 0.5911 - accuracy: 0.7910 - val_loss: 1.5981 - val_accuracy: 0.4088\n",
            "Epoch 71/300\n",
            "51/51 [==============================] - 22s 423ms/step - loss: 0.5409 - accuracy: 0.8323 - val_loss: 1.5364 - val_accuracy: 0.4081\n",
            "Epoch 72/300\n",
            "51/51 [==============================] - 22s 429ms/step - loss: 0.5617 - accuracy: 0.8157 - val_loss: 1.5504 - val_accuracy: 0.4073\n",
            "Epoch 73/300\n",
            "51/51 [==============================] - 22s 424ms/step - loss: 0.5459 - accuracy: 0.8268 - val_loss: 1.5339 - val_accuracy: 0.4051\n",
            "Epoch 74/300\n",
            "51/51 [==============================] - 21s 416ms/step - loss: 0.5242 - accuracy: 0.8372 - val_loss: 1.5627 - val_accuracy: 0.4125\n",
            "Epoch 75/300\n",
            "51/51 [==============================] - 22s 423ms/step - loss: 0.5559 - accuracy: 0.8126 - val_loss: 1.6731 - val_accuracy: 0.3751\n",
            "Epoch 76/300\n",
            "51/51 [==============================] - 21s 418ms/step - loss: 0.5033 - accuracy: 0.8409 - val_loss: 1.7771 - val_accuracy: 0.3656\n",
            "Epoch 77/300\n",
            "51/51 [==============================] - 22s 424ms/step - loss: 0.5273 - accuracy: 0.8255 - val_loss: 1.5778 - val_accuracy: 0.4212\n",
            "Epoch 78/300\n",
            "51/51 [==============================] - 22s 423ms/step - loss: 0.5303 - accuracy: 0.8280 - val_loss: 1.7128 - val_accuracy: 0.3846\n",
            "Epoch 79/300\n",
            "51/51 [==============================] - 21s 421ms/step - loss: 0.5338 - accuracy: 0.8329 - val_loss: 1.7315 - val_accuracy: 0.3678\n",
            "Epoch 80/300\n",
            "51/51 [==============================] - 22s 426ms/step - loss: 0.4984 - accuracy: 0.8360 - val_loss: 1.5660 - val_accuracy: 0.4234\n",
            "Epoch 81/300\n",
            "51/51 [==============================] - 21s 420ms/step - loss: 0.5324 - accuracy: 0.8249 - val_loss: 1.9215 - val_accuracy: 0.3927\n",
            "Epoch 82/300\n",
            "51/51 [==============================] - 22s 439ms/step - loss: 0.6298 - accuracy: 0.7824 - val_loss: 1.8092 - val_accuracy: 0.3766\n",
            "Epoch 83/300\n",
            "51/51 [==============================] - 21s 421ms/step - loss: 0.5299 - accuracy: 0.8335 - val_loss: 1.6790 - val_accuracy: 0.3824\n",
            "Epoch 84/300\n",
            "51/51 [==============================] - 22s 431ms/step - loss: 0.5407 - accuracy: 0.8187 - val_loss: 1.5987 - val_accuracy: 0.4037\n",
            "Epoch 85/300\n",
            "51/51 [==============================] - 21s 418ms/step - loss: 0.5119 - accuracy: 0.8391 - val_loss: 1.7562 - val_accuracy: 0.3766\n",
            "Epoch 86/300\n",
            "51/51 [==============================] - 22s 423ms/step - loss: 0.4941 - accuracy: 0.8422 - val_loss: 1.7034 - val_accuracy: 0.3817\n",
            "Epoch 87/300\n",
            "51/51 [==============================] - 21s 420ms/step - loss: 0.4856 - accuracy: 0.8446 - val_loss: 1.6445 - val_accuracy: 0.4015\n",
            "Epoch 88/300\n",
            "51/51 [==============================] - 22s 424ms/step - loss: 0.4703 - accuracy: 0.8613 - val_loss: 1.7315 - val_accuracy: 0.3927\n",
            "Epoch 89/300\n",
            "51/51 [==============================] - 21s 419ms/step - loss: 0.4942 - accuracy: 0.8409 - val_loss: 1.8079 - val_accuracy: 0.3707\n",
            "Epoch 90/300\n",
            "51/51 [==============================] - 21s 419ms/step - loss: 0.4752 - accuracy: 0.8557 - val_loss: 1.6530 - val_accuracy: 0.3956\n",
            "Epoch 91/300\n",
            "51/51 [==============================] - 22s 422ms/step - loss: 0.4958 - accuracy: 0.8323 - val_loss: 1.7036 - val_accuracy: 0.3912\n",
            "Epoch 92/300\n",
            "51/51 [==============================] - 21s 416ms/step - loss: 0.5022 - accuracy: 0.8372 - val_loss: 1.8190 - val_accuracy: 0.3670\n",
            "Epoch 93/300\n",
            "51/51 [==============================] - 21s 419ms/step - loss: 0.4779 - accuracy: 0.8607 - val_loss: 1.6755 - val_accuracy: 0.3927\n",
            "Epoch 94/300\n",
            "51/51 [==============================] - 21s 421ms/step - loss: 0.4618 - accuracy: 0.8693 - val_loss: 1.7610 - val_accuracy: 0.3868\n",
            "Epoch 95/300\n",
            "51/51 [==============================] - 21s 421ms/step - loss: 0.4607 - accuracy: 0.8600 - val_loss: 1.6789 - val_accuracy: 0.3890\n",
            "Epoch 96/300\n",
            "51/51 [==============================] - 22s 433ms/step - loss: 0.4662 - accuracy: 0.8502 - val_loss: 1.6856 - val_accuracy: 0.3985\n",
            "Epoch 97/300\n",
            "51/51 [==============================] - 21s 415ms/step - loss: 0.4380 - accuracy: 0.8668 - val_loss: 1.7060 - val_accuracy: 0.3978\n",
            "Epoch 98/300\n",
            "51/51 [==============================] - 21s 417ms/step - loss: 0.4509 - accuracy: 0.8564 - val_loss: 1.7147 - val_accuracy: 0.4073\n",
            "Epoch 99/300\n",
            "51/51 [==============================] - 21s 420ms/step - loss: 0.4635 - accuracy: 0.8557 - val_loss: 1.6019 - val_accuracy: 0.4139\n",
            "Epoch 100/300\n",
            "51/51 [==============================] - 21s 416ms/step - loss: 0.4618 - accuracy: 0.8459 - val_loss: 1.7045 - val_accuracy: 0.3927\n",
            "Epoch 101/300\n",
            "51/51 [==============================] - 21s 416ms/step - loss: 0.4496 - accuracy: 0.8477 - val_loss: 1.7239 - val_accuracy: 0.3993\n",
            "Epoch 102/300\n",
            "51/51 [==============================] - 21s 421ms/step - loss: 0.4201 - accuracy: 0.8693 - val_loss: 1.7826 - val_accuracy: 0.3927\n",
            "Epoch 103/300\n",
            "51/51 [==============================] - 21s 416ms/step - loss: 0.3886 - accuracy: 0.8903 - val_loss: 1.6465 - val_accuracy: 0.4095\n",
            "Epoch 104/300\n",
            "51/51 [==============================] - 21s 420ms/step - loss: 0.4517 - accuracy: 0.8564 - val_loss: 1.8003 - val_accuracy: 0.3839\n",
            "Epoch 105/300\n",
            "51/51 [==============================] - 21s 413ms/step - loss: 0.4068 - accuracy: 0.8816 - val_loss: 1.9828 - val_accuracy: 0.3934\n",
            "Epoch 106/300\n",
            "51/51 [==============================] - 22s 422ms/step - loss: 0.4301 - accuracy: 0.8637 - val_loss: 1.7276 - val_accuracy: 0.3919\n",
            "Epoch 107/300\n",
            "51/51 [==============================] - 21s 413ms/step - loss: 0.4094 - accuracy: 0.8816 - val_loss: 1.7077 - val_accuracy: 0.4183\n",
            "Epoch 108/300\n",
            "51/51 [==============================] - 21s 420ms/step - loss: 0.4471 - accuracy: 0.8483 - val_loss: 2.0667 - val_accuracy: 0.3538\n",
            "Epoch 109/300\n",
            "51/51 [==============================] - 21s 414ms/step - loss: 0.4449 - accuracy: 0.8564 - val_loss: 1.6995 - val_accuracy: 0.3956\n",
            "Epoch 110/300\n",
            "51/51 [==============================] - 22s 432ms/step - loss: 0.4397 - accuracy: 0.8594 - val_loss: 1.7746 - val_accuracy: 0.3949\n",
            "Epoch 111/300\n",
            "51/51 [==============================] - 21s 414ms/step - loss: 0.4239 - accuracy: 0.8693 - val_loss: 1.6653 - val_accuracy: 0.4103\n",
            "Epoch 112/300\n",
            "51/51 [==============================] - 21s 415ms/step - loss: 0.3909 - accuracy: 0.8822 - val_loss: 1.8074 - val_accuracy: 0.3934\n",
            "Epoch 113/300\n",
            "51/51 [==============================] - 21s 415ms/step - loss: 0.4179 - accuracy: 0.8674 - val_loss: 1.7399 - val_accuracy: 0.4168\n",
            "Epoch 114/300\n",
            "51/51 [==============================] - 21s 417ms/step - loss: 0.3941 - accuracy: 0.8822 - val_loss: 1.7077 - val_accuracy: 0.4103\n",
            "Epoch 115/300\n",
            "51/51 [==============================] - 21s 415ms/step - loss: 0.3556 - accuracy: 0.8946 - val_loss: 1.7823 - val_accuracy: 0.4029\n",
            "Epoch 116/300\n",
            "51/51 [==============================] - 21s 412ms/step - loss: 0.3937 - accuracy: 0.8816 - val_loss: 2.0193 - val_accuracy: 0.3377\n",
            "Epoch 117/300\n",
            "51/51 [==============================] - 22s 422ms/step - loss: 0.3999 - accuracy: 0.8792 - val_loss: 1.7308 - val_accuracy: 0.4015\n",
            "Epoch 118/300\n",
            "51/51 [==============================] - 21s 413ms/step - loss: 0.3717 - accuracy: 0.8958 - val_loss: 1.7216 - val_accuracy: 0.4059\n",
            "Epoch 119/300\n",
            "51/51 [==============================] - 21s 413ms/step - loss: 0.4021 - accuracy: 0.8798 - val_loss: 1.6932 - val_accuracy: 0.4374\n",
            "Epoch 120/300\n",
            "51/51 [==============================] - 21s 415ms/step - loss: 0.3817 - accuracy: 0.8829 - val_loss: 1.7110 - val_accuracy: 0.4125\n",
            "Epoch 121/300\n",
            "51/51 [==============================] - 21s 418ms/step - loss: 0.3549 - accuracy: 0.9075 - val_loss: 2.0610 - val_accuracy: 0.3744\n",
            "Epoch 122/300\n",
            "51/51 [==============================] - 21s 421ms/step - loss: 0.3828 - accuracy: 0.8940 - val_loss: 1.7980 - val_accuracy: 0.3890\n",
            "Epoch 123/300\n",
            "51/51 [==============================] - 21s 414ms/step - loss: 0.3808 - accuracy: 0.8866 - val_loss: 1.7427 - val_accuracy: 0.3971\n",
            "Epoch 124/300\n",
            "51/51 [==============================] - 21s 418ms/step - loss: 0.3801 - accuracy: 0.8866 - val_loss: 1.6479 - val_accuracy: 0.4161\n",
            "Epoch 125/300\n",
            "51/51 [==============================] - 22s 430ms/step - loss: 0.3300 - accuracy: 0.9174 - val_loss: 1.8431 - val_accuracy: 0.3941\n",
            "Epoch 126/300\n",
            "51/51 [==============================] - 21s 414ms/step - loss: 0.3994 - accuracy: 0.8755 - val_loss: 1.8692 - val_accuracy: 0.3956\n",
            "Epoch 127/300\n",
            "51/51 [==============================] - 21s 413ms/step - loss: 0.3515 - accuracy: 0.8989 - val_loss: 1.9012 - val_accuracy: 0.3626\n",
            "Epoch 128/300\n",
            "51/51 [==============================] - 21s 419ms/step - loss: 0.3698 - accuracy: 0.8859 - val_loss: 1.8134 - val_accuracy: 0.4059\n",
            "Epoch 129/300\n",
            "51/51 [==============================] - 21s 414ms/step - loss: 0.3476 - accuracy: 0.8983 - val_loss: 1.7297 - val_accuracy: 0.4088\n",
            "Epoch 130/300\n",
            "51/51 [==============================] - 21s 413ms/step - loss: 0.3698 - accuracy: 0.8859 - val_loss: 1.9552 - val_accuracy: 0.3802\n",
            "Epoch 131/300\n",
            "51/51 [==============================] - 21s 416ms/step - loss: 0.3542 - accuracy: 0.8983 - val_loss: 1.6656 - val_accuracy: 0.4198\n",
            "Epoch 132/300\n",
            "51/51 [==============================] - 21s 419ms/step - loss: 0.3553 - accuracy: 0.8890 - val_loss: 1.7136 - val_accuracy: 0.4154\n",
            "Epoch 133/300\n",
            "51/51 [==============================] - 21s 416ms/step - loss: 0.3530 - accuracy: 0.8983 - val_loss: 1.6841 - val_accuracy: 0.4234\n",
            "Epoch 134/300\n",
            "51/51 [==============================] - 21s 415ms/step - loss: 0.3874 - accuracy: 0.8699 - val_loss: 1.7535 - val_accuracy: 0.3978\n",
            "Epoch 135/300\n",
            "51/51 [==============================] - 21s 413ms/step - loss: 0.3656 - accuracy: 0.8903 - val_loss: 1.8300 - val_accuracy: 0.4007\n",
            "Epoch 136/300\n",
            "51/51 [==============================] - 22s 424ms/step - loss: 0.4168 - accuracy: 0.8564 - val_loss: 1.9907 - val_accuracy: 0.3590\n",
            "Epoch 137/300\n",
            "51/51 [==============================] - 21s 417ms/step - loss: 0.3507 - accuracy: 0.8989 - val_loss: 1.7930 - val_accuracy: 0.4176\n",
            "Epoch 138/300\n",
            "51/51 [==============================] - 21s 414ms/step - loss: 0.3865 - accuracy: 0.8718 - val_loss: 1.9106 - val_accuracy: 0.4125\n",
            "Epoch 139/300\n",
            "51/51 [==============================] - 22s 436ms/step - loss: 0.3310 - accuracy: 0.8970 - val_loss: 1.7479 - val_accuracy: 0.4293\n",
            "Epoch 140/300\n",
            "51/51 [==============================] - 21s 416ms/step - loss: 0.3267 - accuracy: 0.9057 - val_loss: 1.9733 - val_accuracy: 0.3890\n",
            "Epoch 141/300\n",
            "51/51 [==============================] - 21s 414ms/step - loss: 0.3267 - accuracy: 0.9118 - val_loss: 1.7076 - val_accuracy: 0.4264\n",
            "Epoch 142/300\n",
            "51/51 [==============================] - 21s 413ms/step - loss: 0.3306 - accuracy: 0.9014 - val_loss: 1.9417 - val_accuracy: 0.3890\n",
            "Epoch 143/300\n",
            "51/51 [==============================] - 21s 419ms/step - loss: 0.3326 - accuracy: 0.9075 - val_loss: 1.9367 - val_accuracy: 0.3810\n",
            "Epoch 144/300\n",
            "51/51 [==============================] - 21s 415ms/step - loss: 0.3281 - accuracy: 0.9088 - val_loss: 1.6867 - val_accuracy: 0.4168\n",
            "Epoch 145/300\n",
            "51/51 [==============================] - 21s 415ms/step - loss: 0.3522 - accuracy: 0.8946 - val_loss: 1.7793 - val_accuracy: 0.4059\n",
            "Epoch 146/300\n",
            "51/51 [==============================] - 21s 412ms/step - loss: 0.3677 - accuracy: 0.8835 - val_loss: 1.8729 - val_accuracy: 0.3919\n",
            "Epoch 147/300\n",
            "51/51 [==============================] - 21s 418ms/step - loss: 0.3427 - accuracy: 0.8933 - val_loss: 1.7343 - val_accuracy: 0.4278\n",
            "Epoch 148/300\n",
            "51/51 [==============================] - 21s 414ms/step - loss: 0.3156 - accuracy: 0.8970 - val_loss: 1.7957 - val_accuracy: 0.4000\n",
            "Epoch 149/300\n",
            "51/51 [==============================] - 21s 413ms/step - loss: 0.3238 - accuracy: 0.8995 - val_loss: 1.9654 - val_accuracy: 0.3663\n",
            "Epoch 150/300\n",
            "51/51 [==============================] - 21s 420ms/step - loss: 0.3134 - accuracy: 0.9118 - val_loss: 1.7150 - val_accuracy: 0.4264\n",
            "Epoch 151/300\n",
            "51/51 [==============================] - 21s 419ms/step - loss: 0.3055 - accuracy: 0.9112 - val_loss: 1.7031 - val_accuracy: 0.4300\n",
            "Epoch 152/300\n",
            "51/51 [==============================] - 21s 414ms/step - loss: 0.3133 - accuracy: 0.8995 - val_loss: 1.8081 - val_accuracy: 0.4139\n",
            "Epoch 153/300\n",
            "51/51 [==============================] - 22s 435ms/step - loss: 0.3391 - accuracy: 0.8903 - val_loss: 1.9841 - val_accuracy: 0.3773\n",
            "Epoch 154/300\n",
            "51/51 [==============================] - 21s 417ms/step - loss: 0.3096 - accuracy: 0.9112 - val_loss: 1.7460 - val_accuracy: 0.4154\n",
            "Epoch 155/300\n",
            "51/51 [==============================] - 21s 411ms/step - loss: 0.3704 - accuracy: 0.8792 - val_loss: 1.9660 - val_accuracy: 0.4044\n",
            "Epoch 156/300\n",
            "51/51 [==============================] - 21s 415ms/step - loss: 0.3554 - accuracy: 0.8878 - val_loss: 1.9629 - val_accuracy: 0.3861\n",
            "Epoch 157/300\n",
            "51/51 [==============================] - 21s 413ms/step - loss: 0.2995 - accuracy: 0.9236 - val_loss: 1.7665 - val_accuracy: 0.4176\n",
            "Epoch 158/300\n",
            "51/51 [==============================] - 21s 418ms/step - loss: 0.2827 - accuracy: 0.9322 - val_loss: 1.9682 - val_accuracy: 0.3795\n",
            "Epoch 159/300\n",
            "51/51 [==============================] - 21s 414ms/step - loss: 0.2869 - accuracy: 0.9199 - val_loss: 1.9751 - val_accuracy: 0.3912\n",
            "Epoch 160/300\n",
            "51/51 [==============================] - 21s 411ms/step - loss: 0.3103 - accuracy: 0.9032 - val_loss: 1.8545 - val_accuracy: 0.4022\n",
            "Epoch 161/300\n",
            "51/51 [==============================] - 21s 413ms/step - loss: 0.3127 - accuracy: 0.9143 - val_loss: 1.7652 - val_accuracy: 0.4300\n",
            "Epoch 162/300\n",
            "51/51 [==============================] - 21s 417ms/step - loss: 0.2980 - accuracy: 0.9125 - val_loss: 1.8575 - val_accuracy: 0.3934\n",
            "Epoch 163/300\n",
            "51/51 [==============================] - 21s 414ms/step - loss: 0.3042 - accuracy: 0.9168 - val_loss: 1.9092 - val_accuracy: 0.3700\n",
            "Epoch 164/300\n",
            "51/51 [==============================] - 21s 413ms/step - loss: 0.3094 - accuracy: 0.9100 - val_loss: 1.8460 - val_accuracy: 0.4308\n",
            "Epoch 165/300\n",
            "51/51 [==============================] - 21s 420ms/step - loss: 0.3150 - accuracy: 0.8983 - val_loss: 2.0587 - val_accuracy: 0.3692\n",
            "Epoch 166/300\n",
            "51/51 [==============================] - 21s 417ms/step - loss: 0.3252 - accuracy: 0.9044 - val_loss: 1.8699 - val_accuracy: 0.4066\n",
            "Epoch 167/300\n",
            "51/51 [==============================] - 21s 418ms/step - loss: 0.3266 - accuracy: 0.8995 - val_loss: 1.8250 - val_accuracy: 0.4176\n",
            "Epoch 168/300\n",
            "51/51 [==============================] - 22s 423ms/step - loss: 0.2754 - accuracy: 0.9223 - val_loss: 2.0371 - val_accuracy: 0.3824\n",
            "Epoch 169/300\n",
            "51/51 [==============================] - 21s 420ms/step - loss: 0.3116 - accuracy: 0.9100 - val_loss: 1.8342 - val_accuracy: 0.3971\n",
            "Epoch 170/300\n",
            "51/51 [==============================] - 21s 416ms/step - loss: 0.2891 - accuracy: 0.9149 - val_loss: 1.7523 - val_accuracy: 0.4110\n",
            "Epoch 171/300\n",
            "51/51 [==============================] - 21s 415ms/step - loss: 0.3207 - accuracy: 0.9063 - val_loss: 1.8277 - val_accuracy: 0.3993\n",
            "Epoch 172/300\n",
            "51/51 [==============================] - 21s 413ms/step - loss: 0.3381 - accuracy: 0.8866 - val_loss: 1.7919 - val_accuracy: 0.4059\n",
            "Epoch 173/300\n",
            "51/51 [==============================] - 21s 418ms/step - loss: 0.2657 - accuracy: 0.9396 - val_loss: 1.8473 - val_accuracy: 0.4154\n",
            "Epoch 174/300\n",
            "51/51 [==============================] - 21s 418ms/step - loss: 0.2594 - accuracy: 0.9297 - val_loss: 1.7877 - val_accuracy: 0.4249\n",
            "Epoch 175/300\n",
            "51/51 [==============================] - 21s 417ms/step - loss: 0.2521 - accuracy: 0.9402 - val_loss: 1.9042 - val_accuracy: 0.3993\n",
            "Epoch 176/300\n",
            "51/51 [==============================] - 21s 416ms/step - loss: 0.2912 - accuracy: 0.9155 - val_loss: 1.8438 - val_accuracy: 0.4110\n",
            "Epoch 177/300\n",
            "51/51 [==============================] - 21s 414ms/step - loss: 0.2394 - accuracy: 0.9451 - val_loss: 1.8340 - val_accuracy: 0.4293\n",
            "Epoch 178/300\n",
            "51/51 [==============================] - 21s 415ms/step - loss: 0.2595 - accuracy: 0.9297 - val_loss: 1.8134 - val_accuracy: 0.4198\n",
            "Epoch 179/300\n",
            "51/51 [==============================] - 21s 416ms/step - loss: 0.2664 - accuracy: 0.9229 - val_loss: 2.1354 - val_accuracy: 0.3546\n",
            "Epoch 180/300\n",
            "51/51 [==============================] - 21s 415ms/step - loss: 0.2769 - accuracy: 0.9248 - val_loss: 1.7705 - val_accuracy: 0.4271\n",
            "Epoch 181/300\n",
            "51/51 [==============================] - 21s 409ms/step - loss: 0.2922 - accuracy: 0.9063 - val_loss: 1.9118 - val_accuracy: 0.3832\n",
            "Epoch 182/300\n",
            "51/51 [==============================] - 22s 426ms/step - loss: 0.2730 - accuracy: 0.9242 - val_loss: 1.8338 - val_accuracy: 0.4081\n",
            "Epoch 183/300\n",
            "51/51 [==============================] - 21s 410ms/step - loss: 0.2595 - accuracy: 0.9285 - val_loss: 1.8352 - val_accuracy: 0.4139\n",
            "Epoch 184/300\n",
            "51/51 [==============================] - 21s 416ms/step - loss: 0.2309 - accuracy: 0.9420 - val_loss: 1.8341 - val_accuracy: 0.4022\n",
            "Epoch 185/300\n",
            "51/51 [==============================] - 21s 410ms/step - loss: 0.2355 - accuracy: 0.9427 - val_loss: 2.0429 - val_accuracy: 0.3846\n",
            "Epoch 186/300\n",
            "51/51 [==============================] - 21s 409ms/step - loss: 0.2644 - accuracy: 0.9217 - val_loss: 1.7567 - val_accuracy: 0.4381\n",
            "Epoch 187/300\n",
            "51/51 [==============================] - 21s 409ms/step - loss: 0.2372 - accuracy: 0.9402 - val_loss: 1.7835 - val_accuracy: 0.4176\n",
            "Epoch 188/300\n",
            "51/51 [==============================] - 21s 417ms/step - loss: 0.2517 - accuracy: 0.9402 - val_loss: 1.8045 - val_accuracy: 0.4015\n",
            "Epoch 189/300\n",
            "51/51 [==============================] - 21s 409ms/step - loss: 0.2721 - accuracy: 0.9205 - val_loss: 1.9051 - val_accuracy: 0.3971\n",
            "Epoch 190/300\n",
            "51/51 [==============================] - 21s 410ms/step - loss: 0.2794 - accuracy: 0.9174 - val_loss: 1.9066 - val_accuracy: 0.4103\n",
            "Epoch 191/300\n",
            "51/51 [==============================] - 21s 412ms/step - loss: 0.2406 - accuracy: 0.9377 - val_loss: 2.2015 - val_accuracy: 0.3927\n",
            "Epoch 192/300\n",
            "51/51 [==============================] - 21s 412ms/step - loss: 0.2943 - accuracy: 0.9094 - val_loss: 2.0847 - val_accuracy: 0.3927\n",
            "Epoch 193/300\n",
            "51/51 [==============================] - 21s 415ms/step - loss: 0.2555 - accuracy: 0.9273 - val_loss: 1.8748 - val_accuracy: 0.4125\n",
            "Epoch 194/300\n",
            "51/51 [==============================] - 21s 408ms/step - loss: 0.2533 - accuracy: 0.9334 - val_loss: 1.9364 - val_accuracy: 0.4088\n",
            "Epoch 195/300\n",
            "51/51 [==============================] - 21s 412ms/step - loss: 0.2484 - accuracy: 0.9291 - val_loss: 2.0777 - val_accuracy: 0.3861\n",
            "Epoch 196/300\n",
            "51/51 [==============================] - 21s 415ms/step - loss: 0.2440 - accuracy: 0.9309 - val_loss: 1.9022 - val_accuracy: 0.4117\n",
            "Epoch 197/300\n",
            "51/51 [==============================] - 21s 415ms/step - loss: 0.2655 - accuracy: 0.9242 - val_loss: 2.0354 - val_accuracy: 0.3707\n",
            "Epoch 198/300\n",
            "51/51 [==============================] - 21s 407ms/step - loss: 0.2738 - accuracy: 0.9192 - val_loss: 1.8976 - val_accuracy: 0.4103\n",
            "Epoch 199/300\n",
            "51/51 [==============================] - 21s 413ms/step - loss: 0.2386 - accuracy: 0.9316 - val_loss: 1.8677 - val_accuracy: 0.4088\n",
            "Epoch 200/300\n",
            "51/51 [==============================] - 21s 408ms/step - loss: 0.2599 - accuracy: 0.9248 - val_loss: 1.8539 - val_accuracy: 0.4154\n",
            "Epoch 201/300\n",
            "51/51 [==============================] - 21s 410ms/step - loss: 0.2547 - accuracy: 0.9242 - val_loss: 2.0377 - val_accuracy: 0.4015\n",
            "Epoch 202/300\n",
            "51/51 [==============================] - 21s 408ms/step - loss: 0.2729 - accuracy: 0.9192 - val_loss: 1.8595 - val_accuracy: 0.4234\n",
            "Epoch 203/300\n",
            "51/51 [==============================] - 21s 412ms/step - loss: 0.2462 - accuracy: 0.9303 - val_loss: 1.8698 - val_accuracy: 0.4059\n",
            "Epoch 204/300\n",
            "51/51 [==============================] - 21s 410ms/step - loss: 0.2372 - accuracy: 0.9346 - val_loss: 1.7889 - val_accuracy: 0.4183\n",
            "Epoch 205/300\n",
            "51/51 [==============================] - 21s 407ms/step - loss: 0.2035 - accuracy: 0.9538 - val_loss: 1.9384 - val_accuracy: 0.4044\n",
            "Epoch 206/300\n",
            "51/51 [==============================] - 21s 413ms/step - loss: 0.2591 - accuracy: 0.9285 - val_loss: 1.9080 - val_accuracy: 0.4095\n",
            "Epoch 207/300\n",
            "51/51 [==============================] - 21s 416ms/step - loss: 0.2108 - accuracy: 0.9494 - val_loss: 1.9865 - val_accuracy: 0.3978\n",
            "Epoch 208/300\n",
            "51/51 [==============================] - 21s 409ms/step - loss: 0.2386 - accuracy: 0.9420 - val_loss: 1.9416 - val_accuracy: 0.4000\n",
            "Epoch 209/300\n",
            "51/51 [==============================] - 21s 409ms/step - loss: 0.2553 - accuracy: 0.9291 - val_loss: 1.9393 - val_accuracy: 0.4117\n",
            "Epoch 210/300\n",
            "51/51 [==============================] - 21s 413ms/step - loss: 0.2439 - accuracy: 0.9236 - val_loss: 1.8833 - val_accuracy: 0.4242\n",
            "Epoch 211/300\n",
            "51/51 [==============================] - 21s 420ms/step - loss: 0.2274 - accuracy: 0.9383 - val_loss: 1.9396 - val_accuracy: 0.4110\n",
            "Epoch 212/300\n",
            "51/51 [==============================] - 21s 410ms/step - loss: 0.2427 - accuracy: 0.9236 - val_loss: 1.8900 - val_accuracy: 0.4015\n",
            "Epoch 213/300\n",
            "51/51 [==============================] - 21s 411ms/step - loss: 0.2345 - accuracy: 0.9316 - val_loss: 1.8785 - val_accuracy: 0.4147\n",
            "Epoch 214/300\n",
            "51/51 [==============================] - 21s 416ms/step - loss: 0.2358 - accuracy: 0.9346 - val_loss: 1.9993 - val_accuracy: 0.3978\n",
            "Epoch 215/300\n",
            "51/51 [==============================] - 21s 411ms/step - loss: 0.2203 - accuracy: 0.9488 - val_loss: 2.1472 - val_accuracy: 0.3744\n",
            "Epoch 216/300\n",
            "51/51 [==============================] - 21s 411ms/step - loss: 0.2590 - accuracy: 0.9236 - val_loss: 1.9602 - val_accuracy: 0.3956\n",
            "Epoch 217/300\n",
            "51/51 [==============================] - 21s 413ms/step - loss: 0.2358 - accuracy: 0.9297 - val_loss: 1.8815 - val_accuracy: 0.4029\n",
            "Epoch 218/300\n",
            "51/51 [==============================] - 21s 416ms/step - loss: 0.2285 - accuracy: 0.9408 - val_loss: 2.1980 - val_accuracy: 0.3692\n",
            "Epoch 219/300\n",
            "51/51 [==============================] - 21s 412ms/step - loss: 0.2161 - accuracy: 0.9427 - val_loss: 1.8606 - val_accuracy: 0.4110\n",
            "Epoch 220/300\n",
            "51/51 [==============================] - 21s 410ms/step - loss: 0.2293 - accuracy: 0.9377 - val_loss: 1.8525 - val_accuracy: 0.4037\n",
            "Epoch 221/300\n",
            "51/51 [==============================] - 21s 415ms/step - loss: 0.2143 - accuracy: 0.9445 - val_loss: 1.7996 - val_accuracy: 0.4308\n",
            "Epoch 222/300\n",
            "51/51 [==============================] - 21s 413ms/step - loss: 0.2277 - accuracy: 0.9328 - val_loss: 1.8639 - val_accuracy: 0.4117\n",
            "Epoch 223/300\n",
            "51/51 [==============================] - 21s 412ms/step - loss: 0.2060 - accuracy: 0.9507 - val_loss: 1.9248 - val_accuracy: 0.4015\n",
            "Epoch 224/300\n",
            "51/51 [==============================] - 21s 410ms/step - loss: 0.2465 - accuracy: 0.9236 - val_loss: 2.0951 - val_accuracy: 0.4022\n",
            "Epoch 225/300\n",
            "51/51 [==============================] - 21s 418ms/step - loss: 0.2568 - accuracy: 0.9205 - val_loss: 2.0401 - val_accuracy: 0.3978\n",
            "Epoch 226/300\n",
            "51/51 [==============================] - 21s 414ms/step - loss: 0.1947 - accuracy: 0.9470 - val_loss: 1.9214 - val_accuracy: 0.4205\n",
            "Epoch 227/300\n",
            "51/51 [==============================] - 21s 411ms/step - loss: 0.2046 - accuracy: 0.9439 - val_loss: 1.9356 - val_accuracy: 0.4147\n",
            "Epoch 228/300\n",
            "51/51 [==============================] - 21s 410ms/step - loss: 0.2144 - accuracy: 0.9457 - val_loss: 1.9827 - val_accuracy: 0.3971\n",
            "Epoch 229/300\n",
            "51/51 [==============================] - 21s 418ms/step - loss: 0.2077 - accuracy: 0.9488 - val_loss: 2.0350 - val_accuracy: 0.4117\n",
            "Epoch 230/300\n",
            "51/51 [==============================] - 21s 409ms/step - loss: 0.2779 - accuracy: 0.9118 - val_loss: 1.9037 - val_accuracy: 0.4234\n",
            "Epoch 231/300\n",
            "51/51 [==============================] - 21s 411ms/step - loss: 0.1947 - accuracy: 0.9531 - val_loss: 1.8777 - val_accuracy: 0.4117\n",
            "Epoch 232/300\n",
            "51/51 [==============================] - 21s 413ms/step - loss: 0.1884 - accuracy: 0.9519 - val_loss: 1.9455 - val_accuracy: 0.4278\n",
            "Epoch 233/300\n",
            "51/51 [==============================] - 21s 415ms/step - loss: 0.2169 - accuracy: 0.9340 - val_loss: 2.0875 - val_accuracy: 0.3934\n",
            "Epoch 234/300\n",
            "51/51 [==============================] - 21s 412ms/step - loss: 0.2130 - accuracy: 0.9346 - val_loss: 1.9520 - val_accuracy: 0.4073\n",
            "Epoch 235/300\n",
            "51/51 [==============================] - 21s 410ms/step - loss: 0.1791 - accuracy: 0.9649 - val_loss: 1.9215 - val_accuracy: 0.3912\n",
            "Epoch 236/300\n",
            "51/51 [==============================] - 21s 414ms/step - loss: 0.2163 - accuracy: 0.9328 - val_loss: 1.8688 - val_accuracy: 0.4359\n",
            "Epoch 237/300\n",
            "51/51 [==============================] - 21s 412ms/step - loss: 0.2027 - accuracy: 0.9470 - val_loss: 1.9168 - val_accuracy: 0.4059\n",
            "Epoch 238/300\n",
            "51/51 [==============================] - 21s 410ms/step - loss: 0.2480 - accuracy: 0.9260 - val_loss: 1.9977 - val_accuracy: 0.4066\n",
            "Epoch 239/300\n",
            "51/51 [==============================] - 21s 409ms/step - loss: 0.2518 - accuracy: 0.9192 - val_loss: 2.1119 - val_accuracy: 0.3919\n",
            "Epoch 240/300\n",
            "51/51 [==============================] - 22s 424ms/step - loss: 0.2419 - accuracy: 0.9254 - val_loss: 2.1651 - val_accuracy: 0.3817\n",
            "Epoch 241/300\n",
            "51/51 [==============================] - 21s 409ms/step - loss: 0.2007 - accuracy: 0.9346 - val_loss: 1.9167 - val_accuracy: 0.4337\n",
            "Epoch 242/300\n",
            "51/51 [==============================] - 21s 409ms/step - loss: 0.2277 - accuracy: 0.9371 - val_loss: 2.0765 - val_accuracy: 0.3773\n",
            "Epoch 243/300\n",
            "51/51 [==============================] - 21s 408ms/step - loss: 0.1777 - accuracy: 0.9630 - val_loss: 1.9005 - val_accuracy: 0.3993\n",
            "Epoch 244/300\n",
            "51/51 [==============================] - 21s 413ms/step - loss: 0.2028 - accuracy: 0.9513 - val_loss: 1.9737 - val_accuracy: 0.4234\n",
            "Epoch 245/300\n",
            "51/51 [==============================] - 21s 409ms/step - loss: 0.1941 - accuracy: 0.9519 - val_loss: 1.9187 - val_accuracy: 0.4073\n",
            "Epoch 246/300\n",
            "51/51 [==============================] - 21s 408ms/step - loss: 0.1841 - accuracy: 0.9568 - val_loss: 1.8446 - val_accuracy: 0.4293\n",
            "Epoch 247/300\n",
            "51/51 [==============================] - 21s 408ms/step - loss: 0.2258 - accuracy: 0.9303 - val_loss: 2.0121 - val_accuracy: 0.4103\n",
            "Epoch 248/300\n",
            "51/51 [==============================] - 21s 410ms/step - loss: 0.2186 - accuracy: 0.9316 - val_loss: 1.9224 - val_accuracy: 0.4088\n",
            "Epoch 249/300\n",
            "51/51 [==============================] - 21s 407ms/step - loss: 0.1923 - accuracy: 0.9482 - val_loss: 2.2667 - val_accuracy: 0.3700\n",
            "Epoch 250/300\n",
            "51/51 [==============================] - 21s 410ms/step - loss: 0.2170 - accuracy: 0.9390 - val_loss: 2.1567 - val_accuracy: 0.3846\n",
            "Epoch 251/300\n",
            "51/51 [==============================] - 21s 406ms/step - loss: 0.2037 - accuracy: 0.9470 - val_loss: 1.9449 - val_accuracy: 0.4147\n",
            "Epoch 252/300\n",
            "51/51 [==============================] - 21s 409ms/step - loss: 0.1939 - accuracy: 0.9568 - val_loss: 1.9080 - val_accuracy: 0.4234\n",
            "Epoch 253/300\n",
            "51/51 [==============================] - 21s 407ms/step - loss: 0.1923 - accuracy: 0.9482 - val_loss: 1.9960 - val_accuracy: 0.3978\n",
            "Epoch 254/300\n",
            "51/51 [==============================] - 21s 411ms/step - loss: 0.1789 - accuracy: 0.9587 - val_loss: 1.9780 - val_accuracy: 0.3971\n",
            "Epoch 255/300\n",
            "51/51 [==============================] - 21s 418ms/step - loss: 0.2149 - accuracy: 0.9377 - val_loss: 1.9894 - val_accuracy: 0.3956\n",
            "Epoch 256/300\n",
            "51/51 [==============================] - 21s 409ms/step - loss: 0.2152 - accuracy: 0.9470 - val_loss: 1.9641 - val_accuracy: 0.4125\n",
            "Epoch 257/300\n",
            "51/51 [==============================] - 21s 410ms/step - loss: 0.1997 - accuracy: 0.9451 - val_loss: 1.9796 - val_accuracy: 0.4066\n",
            "Epoch 258/300\n",
            "51/51 [==============================] - 21s 411ms/step - loss: 0.1979 - accuracy: 0.9420 - val_loss: 2.0014 - val_accuracy: 0.4125\n",
            "Epoch 259/300\n",
            "51/51 [==============================] - 21s 414ms/step - loss: 0.1808 - accuracy: 0.9630 - val_loss: 1.8995 - val_accuracy: 0.4205\n",
            "Epoch 260/300\n",
            "51/51 [==============================] - 21s 411ms/step - loss: 0.1786 - accuracy: 0.9581 - val_loss: 2.0153 - val_accuracy: 0.4117\n",
            "Epoch 261/300\n",
            "51/51 [==============================] - 21s 409ms/step - loss: 0.1567 - accuracy: 0.9649 - val_loss: 2.0398 - val_accuracy: 0.4059\n",
            "Epoch 262/300\n",
            "51/51 [==============================] - 21s 412ms/step - loss: 0.1786 - accuracy: 0.9544 - val_loss: 1.9871 - val_accuracy: 0.4044\n",
            "Epoch 263/300\n",
            "51/51 [==============================] - 21s 415ms/step - loss: 0.1668 - accuracy: 0.9618 - val_loss: 1.9968 - val_accuracy: 0.4205\n",
            "Epoch 264/300\n",
            "51/51 [==============================] - 21s 417ms/step - loss: 0.1889 - accuracy: 0.9538 - val_loss: 2.1120 - val_accuracy: 0.3905\n",
            "Epoch 265/300\n",
            "51/51 [==============================] - 21s 410ms/step - loss: 0.2219 - accuracy: 0.9291 - val_loss: 2.1008 - val_accuracy: 0.3839\n",
            "Epoch 266/300\n",
            "51/51 [==============================] - 21s 411ms/step - loss: 0.2315 - accuracy: 0.9309 - val_loss: 1.9824 - val_accuracy: 0.4051\n",
            "Epoch 267/300\n",
            "51/51 [==============================] - 21s 415ms/step - loss: 0.1670 - accuracy: 0.9630 - val_loss: 2.0388 - val_accuracy: 0.4117\n",
            "Epoch 268/300\n",
            "51/51 [==============================] - 21s 410ms/step - loss: 0.2112 - accuracy: 0.9390 - val_loss: 2.1175 - val_accuracy: 0.3744\n",
            "Epoch 269/300\n",
            "51/51 [==============================] - 22s 422ms/step - loss: 0.2105 - accuracy: 0.9322 - val_loss: 2.1205 - val_accuracy: 0.3875\n",
            "Epoch 270/300\n",
            "51/51 [==============================] - 21s 412ms/step - loss: 0.1710 - accuracy: 0.9612 - val_loss: 2.0148 - val_accuracy: 0.3963\n",
            "Epoch 271/300\n",
            "51/51 [==============================] - 21s 413ms/step - loss: 0.1977 - accuracy: 0.9408 - val_loss: 1.9927 - val_accuracy: 0.4066\n",
            "Epoch 272/300\n",
            "51/51 [==============================] - 21s 412ms/step - loss: 0.1975 - accuracy: 0.9457 - val_loss: 2.1547 - val_accuracy: 0.3912\n",
            "Epoch 273/300\n",
            "51/51 [==============================] - 21s 412ms/step - loss: 0.1689 - accuracy: 0.9531 - val_loss: 2.2210 - val_accuracy: 0.4051\n",
            "Epoch 274/300\n",
            "51/51 [==============================] - 21s 417ms/step - loss: 0.1806 - accuracy: 0.9562 - val_loss: 1.9555 - val_accuracy: 0.4315\n",
            "Epoch 275/300\n",
            "51/51 [==============================] - 21s 412ms/step - loss: 0.1580 - accuracy: 0.9630 - val_loss: 2.0089 - val_accuracy: 0.4022\n",
            "Epoch 276/300\n",
            "51/51 [==============================] - 21s 412ms/step - loss: 0.1523 - accuracy: 0.9698 - val_loss: 2.1297 - val_accuracy: 0.4073\n",
            "Epoch 277/300\n",
            "51/51 [==============================] - 21s 410ms/step - loss: 0.1554 - accuracy: 0.9661 - val_loss: 1.9384 - val_accuracy: 0.4029\n",
            "Epoch 278/300\n",
            "51/51 [==============================] - 21s 421ms/step - loss: 0.1549 - accuracy: 0.9630 - val_loss: 2.0669 - val_accuracy: 0.4176\n",
            "Epoch 279/300\n",
            "51/51 [==============================] - 21s 412ms/step - loss: 0.1714 - accuracy: 0.9562 - val_loss: 2.0595 - val_accuracy: 0.4007\n",
            "Epoch 280/300\n",
            "51/51 [==============================] - 21s 408ms/step - loss: 0.1799 - accuracy: 0.9513 - val_loss: 1.9876 - val_accuracy: 0.4278\n",
            "Epoch 281/300\n",
            "51/51 [==============================] - 21s 411ms/step - loss: 0.1705 - accuracy: 0.9556 - val_loss: 1.9407 - val_accuracy: 0.4154\n",
            "Epoch 282/300\n",
            "51/51 [==============================] - 21s 413ms/step - loss: 0.1625 - accuracy: 0.9550 - val_loss: 1.9220 - val_accuracy: 0.4315\n",
            "Epoch 283/300\n",
            "51/51 [==============================] - 21s 416ms/step - loss: 0.1682 - accuracy: 0.9575 - val_loss: 1.9876 - val_accuracy: 0.4220\n",
            "Epoch 284/300\n",
            "51/51 [==============================] - 21s 417ms/step - loss: 0.1790 - accuracy: 0.9568 - val_loss: 1.9733 - val_accuracy: 0.4264\n",
            "Epoch 285/300\n",
            "51/51 [==============================] - 21s 410ms/step - loss: 0.1953 - accuracy: 0.9482 - val_loss: 2.0030 - val_accuracy: 0.4205\n",
            "Epoch 286/300\n",
            "51/51 [==============================] - 21s 412ms/step - loss: 0.1974 - accuracy: 0.9346 - val_loss: 2.1084 - val_accuracy: 0.4007\n",
            "Epoch 287/300\n",
            "51/51 [==============================] - 21s 409ms/step - loss: 0.1640 - accuracy: 0.9655 - val_loss: 2.1011 - val_accuracy: 0.4059\n",
            "Epoch 288/300\n",
            "51/51 [==============================] - 21s 410ms/step - loss: 0.1737 - accuracy: 0.9593 - val_loss: 1.9965 - val_accuracy: 0.4168\n",
            "Epoch 289/300\n",
            "51/51 [==============================] - 21s 411ms/step - loss: 0.1781 - accuracy: 0.9507 - val_loss: 1.9977 - val_accuracy: 0.4044\n",
            "Epoch 290/300\n",
            "51/51 [==============================] - 21s 411ms/step - loss: 0.1769 - accuracy: 0.9519 - val_loss: 1.8925 - val_accuracy: 0.4366\n",
            "Epoch 291/300\n",
            "51/51 [==============================] - 21s 408ms/step - loss: 0.1698 - accuracy: 0.9525 - val_loss: 2.0377 - val_accuracy: 0.4264\n",
            "Epoch 292/300\n",
            "51/51 [==============================] - 21s 409ms/step - loss: 0.1543 - accuracy: 0.9605 - val_loss: 2.1022 - val_accuracy: 0.4103\n",
            "Epoch 293/300\n",
            "51/51 [==============================] - 21s 418ms/step - loss: 0.2107 - accuracy: 0.9316 - val_loss: 1.9559 - val_accuracy: 0.4190\n",
            "Epoch 294/300\n",
            "51/51 [==============================] - 21s 409ms/step - loss: 0.1922 - accuracy: 0.9439 - val_loss: 2.0144 - val_accuracy: 0.4198\n",
            "Epoch 295/300\n",
            "51/51 [==============================] - 21s 408ms/step - loss: 0.1507 - accuracy: 0.9605 - val_loss: 1.9120 - val_accuracy: 0.4256\n",
            "Epoch 296/300\n",
            "51/51 [==============================] - 21s 408ms/step - loss: 0.1644 - accuracy: 0.9605 - val_loss: 1.9645 - val_accuracy: 0.4234\n",
            "Epoch 297/300\n",
            "51/51 [==============================] - 21s 415ms/step - loss: 0.1737 - accuracy: 0.9581 - val_loss: 2.1150 - val_accuracy: 0.3897\n",
            "Epoch 298/300\n",
            "51/51 [==============================] - 22s 422ms/step - loss: 0.1567 - accuracy: 0.9679 - val_loss: 2.0217 - val_accuracy: 0.4022\n",
            "Epoch 299/300\n",
            "51/51 [==============================] - 21s 412ms/step - loss: 0.1557 - accuracy: 0.9624 - val_loss: 2.0374 - val_accuracy: 0.4256\n",
            "Epoch 300/300\n",
            "51/51 [==============================] - 21s 411ms/step - loss: 0.1645 - accuracy: 0.9587 - val_loss: 2.0820 - val_accuracy: 0.3971\n"
          ],
          "name": "stdout"
        }
      ]
    },
    {
      "cell_type": "code",
      "metadata": {
        "id": "ZqWsp449uOkQ"
      },
      "source": [
        ""
      ],
      "execution_count": 20,
      "outputs": []
    },
    {
      "cell_type": "code",
      "metadata": {
        "id": "8QVIhEPe84W0"
      },
      "source": [
        "import matplotlib.pyplot as plt"
      ],
      "execution_count": 21,
      "outputs": []
    },
    {
      "cell_type": "code",
      "metadata": {
        "colab": {
          "base_uri": "https://localhost:8080/",
          "height": 532
        },
        "id": "Tij-OLOh84W5",
        "outputId": "4f2cc57c-1f69-4696-b312-5ace40abaa90"
      },
      "source": [
        "# plot the loss\n",
        "plt.plot(r.history['loss'], label='train loss')\n",
        "plt.plot(r.history['val_loss'], label='val loss')\n",
        "plt.legend()\n",
        "plt.show()\n",
        "plt.savefig('LossVal_loss')\n",
        "\n",
        "# plot the accuracy\n",
        "plt.plot(r.history['accuracy'], label='train acc')\n",
        "plt.plot(r.history['val_accuracy'], label='val acc')\n",
        "plt.legend()\n",
        "plt.show()\n",
        "plt.savefig('AccVal_acc')"
      ],
      "execution_count": 22,
      "outputs": [
        {
          "output_type": "display_data",
          "data": {
            "image/png": "[encoded data removed]",
            "text/plain": [
              "<Figure size 432x288 with 1 Axes>"
            ]
          },
          "metadata": {
            "tags": [],
            "needs_background": "light"
          }
        },
        {
          "output_type": "display_data",
          "data": {
            "image/png": "[encoded data removed]",
            "text/plain": [
              "<Figure size 432x288 with 1 Axes>"
            ]
          },
          "metadata": {
            "tags": [],
            "needs_background": "light"
          }
        },
        {
          "output_type": "display_data",
          "data": {
            "text/plain": [
              "<Figure size 432x288 with 0 Axes>"
            ]
          },
          "metadata": {
            "tags": []
          }
        }
      ]
    },
    {
      "cell_type": "code",
      "metadata": {
        "id": "hYYKXpFb0jzW"
      },
      "source": [
        "# save it as a h5 file\n",
        "from tensorflow.keras.models import load_model\n",
        "\n",
        "model.save('model_vgg16.h5')\n",
        "\n"
      ],
      "execution_count": 23,
      "outputs": []
    },
    {
      "cell_type": "code",
      "metadata": {
        "id": "DEKcgMHo84XH"
      },
      "source": [
        "\n",
        "y_pred = model.predict(test_set)\n"
      ],
      "execution_count": 24,
      "outputs": []
    },
    {
      "cell_type": "code",
      "metadata": {
        "id": "HTjAKeDi0iVt"
      },
      "source": [
        ""
      ],
      "execution_count": 24,
      "outputs": []
    },
    {
      "cell_type": "code",
      "metadata": {
        "colab": {
          "base_uri": "https://localhost:8080/"
        },
        "id": "Svdx1da284XM",
        "outputId": "2377755f-9d12-425a-a148-9292453bc2f8"
      },
      "source": [
        "y_pred"
      ],
      "execution_count": 25,
      "outputs": [
        {
          "output_type": "execute_result",
          "data": {
            "text/plain": [
              "array([[1.6156750e-02, 3.0497994e-04, 6.0654622e-01, ..., 3.6334237e-01,\n",
              "        6.5700626e-03, 3.0459701e-03],\n",
              "       [9.6584576e-01, 6.6870661e-04, 3.6077339e-03, ..., 2.0302070e-02,\n",
              "        4.6821233e-07, 6.3093556e-03],\n",
              "       [7.2834606e-05, 1.3558550e-06, 1.1101007e-02, ..., 6.7575014e-01,\n",
              "        9.4152747e-05, 4.3969296e-05],\n",
              "       ...,\n",
              "       [3.4496721e-03, 1.7849829e-04, 9.6736379e-02, ..., 8.8237375e-02,\n",
              "        2.2338678e-05, 5.4914961e-03],\n",
              "       [1.1361478e-01, 2.9841738e-04, 4.0347236e-03, ..., 2.9662859e-03,\n",
              "        2.0344302e-03, 1.2690463e-05],\n",
              "       [4.3949842e-01, 4.6805780e-02, 1.0078303e-01, ..., 2.6442584e-02,\n",
              "        8.9371698e-03, 1.2574753e-01]], dtype=float32)"
            ]
          },
          "metadata": {
            "tags": []
          },
          "execution_count": 25
        }
      ]
    },
    {
      "cell_type": "code",
      "metadata": {
        "id": "wZrUdavX84XU"
      },
      "source": [
        "import numpy as np\n",
        "y_pred = np.argmax(y_pred, axis=1)"
      ],
      "execution_count": 26,
      "outputs": []
    },
    {
      "cell_type": "code",
      "metadata": {
        "colab": {
          "base_uri": "https://localhost:8080/"
        },
        "id": "TlDyo8Lf84XY",
        "outputId": "86df1c1f-9a89-417a-c3a0-b1b5e43bfff5"
      },
      "source": [
        "y_pred"
      ],
      "execution_count": 27,
      "outputs": [
        {
          "output_type": "execute_result",
          "data": {
            "text/plain": [
              "array([2, 0, 4, ..., 3, 3, 0])"
            ]
          },
          "metadata": {
            "tags": []
          },
          "execution_count": 27
        }
      ]
    },
    {
      "cell_type": "code",
      "metadata": {
        "id": "4uFuDEIr84Xc"
      },
      "source": [
        "from tensorflow.keras.models import load_model\n",
        "\n",
        "model.save('model_inception2.h5')"
      ],
      "execution_count": null,
      "outputs": []
    },
    {
      "cell_type": "code",
      "metadata": {
        "id": "q_whXR5984Xg"
      },
      "source": [
        "from tensorflow.keras.models import load_model\n",
        "from tensorflow.keras.preprocessing import image"
      ],
      "execution_count": null,
      "outputs": []
    },
    {
      "cell_type": "code",
      "metadata": {
        "id": "IheA0WFB84Xm"
      },
      "source": [
        "model=load_model('model_inception2.h5')"
      ],
      "execution_count": null,
      "outputs": []
    },
    {
      "cell_type": "code",
      "metadata": {
        "id": "WrBTR_DI84Xs"
      },
      "source": [
        "img_data"
      ],
      "execution_count": null,
      "outputs": []
    },
    {
      "cell_type": "code",
      "metadata": {
        "id": "UDa654i384Xx"
      },
      "source": [
        "img=image.load_img('/content/drive/MyDrive/Datasets/dataset-satellitedata/test/SN_9563/HB03334.000.jpg',target_size=(224,224))\n",
        "\n"
      ],
      "execution_count": null,
      "outputs": []
    },
    {
      "cell_type": "code",
      "metadata": {
        "id": "oujUMHc284X1"
      },
      "source": [
        "x=image.img_to_array(img)\n",
        "x"
      ],
      "execution_count": null,
      "outputs": []
    },
    {
      "cell_type": "code",
      "metadata": {
        "id": "tiQDUAOc84X5"
      },
      "source": [
        "x.shape"
      ],
      "execution_count": null,
      "outputs": []
    },
    {
      "cell_type": "code",
      "metadata": {
        "id": "KXELT6OM84X9"
      },
      "source": [
        "x=x/255"
      ],
      "execution_count": null,
      "outputs": []
    },
    {
      "cell_type": "code",
      "metadata": {
        "id": "EvoWUZRO84YD"
      },
      "source": [
        "import numpy as np\n",
        "x=np.expand_dims(x,axis=0)\n",
        "img_data=preprocess_input(x)\n",
        "img_data.shape"
      ],
      "execution_count": null,
      "outputs": []
    },
    {
      "cell_type": "code",
      "metadata": {
        "id": "LM0IWRqO84YH"
      },
      "source": [
        "model.predict(img_data)"
      ],
      "execution_count": null,
      "outputs": []
    },
    {
      "cell_type": "code",
      "metadata": {
        "id": "kRw1_r_w84YL"
      },
      "source": [
        "a=np.argmax(model.predict(img_data), axis=1)"
      ],
      "execution_count": null,
      "outputs": []
    },
    {
      "cell_type": "code",
      "metadata": {
        "id": "v8UJkbK084YP"
      },
      "source": [
        "a==1"
      ],
      "execution_count": null,
      "outputs": []
    },
    {
      "cell_type": "code",
      "metadata": {
        "id": "F-ERyXXA84YT"
      },
      "source": [
        "import tensorflow as tf"
      ],
      "execution_count": null,
      "outputs": []
    },
    {
      "cell_type": "code",
      "metadata": {
        "id": "GtA4YHY084YX"
      },
      "source": [
        "tf.__version__"
      ],
      "execution_count": null,
      "outputs": []
    },
    {
      "cell_type": "code",
      "metadata": {
        "id": "j85Krr1G84Yb"
      },
      "source": [
        ""
      ],
      "execution_count": null,
      "outputs": []
    }
  ]
}