{
  "nbformat": 4,
  "nbformat_minor": 0,
  "metadata": {
    "accelerator": "GPU",
    "colab": {
      "name": "Copy of Satellite Image classification using Transfer Learning Inception V3.ipynb",
      "provenance": [],
      "collapsed_sections": [],
      "toc_visible": true
    },
    "kernelspec": {
      "display_name": "Python 3",
      "language": "python",
      "name": "python3"
    },
    "language_info": {
      "codemirror_mode": {
        "name": "ipython",
        "version": 3
      },
      "file_extension": ".py",
      "mimetype": "text/x-python",
      "name": "python",
      "nbconvert_exporter": "python",
      "pygments_lexer": "ipython3",
      "version": "3.7.7"
    }
  },
  "cells": [
    {
      "cell_type": "markdown",
      "metadata": {
        "id": "3kBNyKYs84Vl"
      },
      "source": [
        "## Transfer Learning Inception V3 using Keras"
      ]
    },
    {
      "cell_type": "code",
      "metadata": {
        "colab": {
          "base_uri": "https://localhost:8080/"
        },
        "id": "dPvy6gdb87Q0",
        "outputId": "9d48fa57-c968-40e0-f3ea-6cd574997c0f"
      },
      "source": [
        "\n",
        "from google.colab import drive\n",
        "drive.mount('/content/drive/')                                   "
      ],
      "execution_count": 1,
      "outputs": [
        {
          "output_type": "stream",
          "text": [
            "Mounted at /content/drive/\n"
          ],
          "name": "stdout"
        }
      ]
    },
    {
      "cell_type": "code",
      "metadata": {
        "id": "t7Mibdos87Nm"
      },
      "source": [
        "!pip install -q keras\n"
      ],
      "execution_count": 2,
      "outputs": []
    },
    {
      "cell_type": "code",
      "metadata": {
        "id": "BlSIBEjt87Li"
      },
      "source": [
        "import keras"
      ],
      "execution_count": 3,
      "outputs": []
    },
    {
      "cell_type": "code",
      "metadata": {
        "id": "RXi0M8DZ87IL"
      },
      "source": [
        ""
      ],
      "execution_count": 3,
      "outputs": []
    },
    {
      "cell_type": "code",
      "metadata": {
        "id": "OKs-S5F_87Gk"
      },
      "source": [
        ""
      ],
      "execution_count": 3,
      "outputs": []
    },
    {
      "cell_type": "code",
      "metadata": {
        "id": "LK4eWGWG866p"
      },
      "source": [
        ""
      ],
      "execution_count": 3,
      "outputs": []
    },
    {
      "cell_type": "markdown",
      "metadata": {
        "id": "rJSj5Ltc84Vn"
      },
      "source": [
        "Please download the dataset from the below url"
      ]
    },
    {
      "cell_type": "code",
      "metadata": {
        "id": "JCmcFlj084Vp"
      },
      "source": [
        "from tensorflow.compat.v1 import ConfigProto\n",
        "from tensorflow.compat.v1 import InteractiveSession\n",
        "\n",
        "config = ConfigProto()\n",
        "config.gpu_options.per_process_gpu_memory_fraction = 0.5\n",
        "config.gpu_options.allow_growth = True\n",
        "session = InteractiveSession(config=config)"
      ],
      "execution_count": 4,
      "outputs": []
    },
    {
      "cell_type": "code",
      "metadata": {
        "id": "Pgxfn7CZ84Vv"
      },
      "source": [
        "# import the libraries as shown below\n",
        "\n",
        "\n",
        "from keras.layers import Input, Lambda, Dense, Flatten\n",
        "from keras.models import Model\n",
        "#from keras.applications.resnet50 import ResNet50\n",
        "from keras.applications.vgg16 import VGG16\n",
        "from keras.applications.vgg16 import preprocess_input\n",
        "from keras.preprocessing import image\n",
        "from keras.preprocessing.image import ImageDataGenerator\n",
        "from keras.models import Sequential\n",
        "import numpy as np\n",
        "from glob import glob\n",
        "import matplotlib.pyplot as plt\n",
        "#import matplotlib.pyplot as plt"
      ],
      "execution_count": 5,
      "outputs": []
    },
    {
      "cell_type": "code",
      "metadata": {
        "id": "IQw9AATM84V1"
      },
      "source": [
        "# re-size all the images to this\n",
        "IMAGE_SIZE = [224, 224]\n",
        "\n",
        "train_path = '/content/drive/MyDrive/Datasets/TARGETS/TRAIN/17_DEG'\n",
        "valid_path = '/content/drive/MyDrive/Datasets/TARGETS/TEST/15_DEG'\n"
      ],
      "execution_count": 6,
      "outputs": []
    },
    {
      "cell_type": "code",
      "metadata": {
        "id": "fcmzSQAV84V6",
        "colab": {
          "base_uri": "https://localhost:8080/"
        },
        "outputId": "87b39ef9-7244-4170-8bf6-67d8f0c4ee56"
      },
      "source": [
        "# Import the Vgg 16 library as shown below and add preprocessing layer to the front of VGG\n",
        "# Here we will be using imagenet weights\n",
        "\n",
        "#inception = InceptionV3(input_shape=IMAGE_SIZE + [3], weights='imagenet', include_top=False)\n",
        "vgg = VGG16(input_shape=IMAGE_SIZE + [3], weights='imagenet', include_top=False)\n",
        "\n"
      ],
      "execution_count": 7,
      "outputs": [
        {
          "output_type": "stream",
          "text": [
            "Downloading data from https://storage.googleapis.com/tensorflow/keras-applications/vgg16/vgg16_weights_tf_dim_ordering_tf_kernels_notop.h5\n",
            "58892288/58889256 [==============================] - 0s 0us/step\n"
          ],
          "name": "stdout"
        }
      ]
    },
    {
      "cell_type": "code",
      "metadata": {
        "id": "vNakjfS984WA"
      },
      "source": [
        "# don't train existing weights\n",
        "for layer in vgg.layers:\n",
        "    layer.trainable = False"
      ],
      "execution_count": 8,
      "outputs": []
    },
    {
      "cell_type": "code",
      "metadata": {
        "colab": {
          "base_uri": "https://localhost:8080/"
        },
        "id": "95ZsHfzH84WF",
        "outputId": "5f6408e4-8915-48ab-bf76-5c916bd2c10c"
      },
      "source": [
        "  # useful for getting number of output classes\n",
        "folders = glob('/content/drive/MyDrive/Datasets/TARGETS/TRAIN/17_DEG/*')\n",
        "folders"
      ],
      "execution_count": 9,
      "outputs": [
        {
          "output_type": "execute_result",
          "data": {
            "text/plain": [
              "['/content/drive/MyDrive/Datasets/TARGETS/TRAIN/17_DEG/BTR70',\n",
              " '/content/drive/MyDrive/Datasets/TARGETS/TRAIN/17_DEG/T72',\n",
              " '/content/drive/MyDrive/Datasets/TARGETS/TRAIN/17_DEG/BMP2']"
            ]
          },
          "metadata": {
            "tags": []
          },
          "execution_count": 9
        }
      ]
    },
    {
      "cell_type": "code",
      "metadata": {
        "colab": {
          "base_uri": "https://localhost:8080/"
        },
        "id": "4dJ2c7XJqN2L",
        "outputId": "3077f737-a1c7-4566-dc07-2b9b197b2804"
      },
      "source": [
        "len(folders)"
      ],
      "execution_count": 10,
      "outputs": [
        {
          "output_type": "execute_result",
          "data": {
            "text/plain": [
              "3"
            ]
          },
          "metadata": {
            "tags": []
          },
          "execution_count": 10
        }
      ]
    },
    {
      "cell_type": "code",
      "metadata": {
        "id": "lSYb_vkXqNw1"
      },
      "source": [
        ""
      ],
      "execution_count": 10,
      "outputs": []
    },
    {
      "cell_type": "code",
      "metadata": {
        "id": "gZw9OomO84WK"
      },
      "source": [
        "# our layers - you can add more if you want\n",
        "x = Flatten()(vgg.output)"
      ],
      "execution_count": 11,
      "outputs": []
    },
    {
      "cell_type": "code",
      "metadata": {
        "id": "wX0sOrwh84WQ"
      },
      "source": [
        "prediction = Dense(len(folders), activation='softmax')(x)\n",
        "\n",
        "# create a model object\n",
        "model = Model(inputs=vgg.input, outputs=prediction)"
      ],
      "execution_count": 12,
      "outputs": []
    },
    {
      "cell_type": "code",
      "metadata": {
        "colab": {
          "base_uri": "https://localhost:8080/"
        },
        "id": "d4fVvOzO84WX",
        "outputId": "222c82f3-4b9a-40d0-dac2-e81d4d037deb"
      },
      "source": [
        "\n",
        "# view the structure of the model\n",
        "model.summary()\n"
      ],
      "execution_count": 13,
      "outputs": [
        {
          "output_type": "stream",
          "text": [
            "Model: \"functional_1\"\n",
            "_________________________________________________________________\n",
            "Layer (type)                 Output Shape              Param #   \n",
            "=================================================================\n",
            "input_1 (InputLayer)         [(None, 224, 224, 3)]     0         \n",
            "_________________________________________________________________\n",
            "block1_conv1 (Conv2D)        (None, 224, 224, 64)      1792      \n",
            "_________________________________________________________________\n",
            "block1_conv2 (Conv2D)        (None, 224, 224, 64)      36928     \n",
            "_________________________________________________________________\n",
            "block1_pool (MaxPooling2D)   (None, 112, 112, 64)      0         \n",
            "_________________________________________________________________\n",
            "block2_conv1 (Conv2D)        (None, 112, 112, 128)     73856     \n",
            "_________________________________________________________________\n",
            "block2_conv2 (Conv2D)        (None, 112, 112, 128)     147584    \n",
            "_________________________________________________________________\n",
            "block2_pool (MaxPooling2D)   (None, 56, 56, 128)       0         \n",
            "_________________________________________________________________\n",
            "block3_conv1 (Conv2D)        (None, 56, 56, 256)       295168    \n",
            "_________________________________________________________________\n",
            "block3_conv2 (Conv2D)        (None, 56, 56, 256)       590080    \n",
            "_________________________________________________________________\n",
            "block3_conv3 (Conv2D)        (None, 56, 56, 256)       590080    \n",
            "_________________________________________________________________\n",
            "block3_pool (MaxPooling2D)   (None, 28, 28, 256)       0         \n",
            "_________________________________________________________________\n",
            "block4_conv1 (Conv2D)        (None, 28, 28, 512)       1180160   \n",
            "_________________________________________________________________\n",
            "block4_conv2 (Conv2D)        (None, 28, 28, 512)       2359808   \n",
            "_________________________________________________________________\n",
            "block4_conv3 (Conv2D)        (None, 28, 28, 512)       2359808   \n",
            "_________________________________________________________________\n",
            "block4_pool (MaxPooling2D)   (None, 14, 14, 512)       0         \n",
            "_________________________________________________________________\n",
            "block5_conv1 (Conv2D)        (None, 14, 14, 512)       2359808   \n",
            "_________________________________________________________________\n",
            "block5_conv2 (Conv2D)        (None, 14, 14, 512)       2359808   \n",
            "_________________________________________________________________\n",
            "block5_conv3 (Conv2D)        (None, 14, 14, 512)       2359808   \n",
            "_________________________________________________________________\n",
            "block5_pool (MaxPooling2D)   (None, 7, 7, 512)         0         \n",
            "_________________________________________________________________\n",
            "flatten (Flatten)            (None, 25088)             0         \n",
            "_________________________________________________________________\n",
            "dense (Dense)                (None, 3)                 75267     \n",
            "=================================================================\n",
            "Total params: 14,789,955\n",
            "Trainable params: 75,267\n",
            "Non-trainable params: 14,714,688\n",
            "_________________________________________________________________\n"
          ],
          "name": "stdout"
        }
      ]
    },
    {
      "cell_type": "code",
      "metadata": {
        "id": "EAj7GGlW84Wd"
      },
      "source": [
        "# tell the model what cost and optimization method to use\n",
        "model.compile(\n",
        "  loss='categorical_crossentropy',\n",
        "  optimizer='adam',\n",
        "  metrics=['accuracy']\n",
        ")\n"
      ],
      "execution_count": 14,
      "outputs": []
    },
    {
      "cell_type": "code",
      "metadata": {
        "id": "3gALqJV384Wi"
      },
      "source": [
        "# Use the Image Data Generator to import the images from the dataset\n",
        "from tensorflow.keras.preprocessing.image import ImageDataGenerator\n",
        "\n",
        "train_datagen = ImageDataGenerator(rescale = 1./255,\n",
        "                                   shear_range = 0.2,\n",
        "                                   zoom_range = 0.2,\n",
        "                                   horizontal_flip = True)\n",
        "\n",
        "test_datagen = ImageDataGenerator(rescale = 1./255)"
      ],
      "execution_count": 15,
      "outputs": []
    },
    {
      "cell_type": "code",
      "metadata": {
        "colab": {
          "base_uri": "https://localhost:8080/"
        },
        "id": "XE7_Geqf84Wn",
        "outputId": "f4c82c34-650b-41e4-c84d-b10ec5294215"
      },
      "source": [
        "# Make sure you provide the same target size as initialied for the image size\n",
        "training_set = train_datagen.flow_from_directory('/content/drive/MyDrive/Datasets/TARGETS/TRAIN/17_DEG',\n",
        "                                                 target_size = (224, 224),\n",
        "                                                 batch_size = 32,\n",
        "                                                 class_mode = 'categorical')"
      ],
      "execution_count": 16,
      "outputs": [
        {
          "output_type": "stream",
          "text": [
            "Found 1622 images belonging to 3 classes.\n"
          ],
          "name": "stdout"
        }
      ]
    },
    {
      "cell_type": "code",
      "metadata": {
        "colab": {
          "base_uri": "https://localhost:8080/"
        },
        "id": "RJFLvv_184Wr",
        "outputId": "587517d3-24fd-4c31-e9b3-8d963a3c1523"
      },
      "source": [
        "test_set = test_datagen.flow_from_directory('/content/drive/MyDrive/Datasets/TARGETS/TEST/15_DEG',\n",
        "                                            target_size = (224, 224),\n",
        "                                            batch_size = 32,\n",
        "                                            class_mode = 'categorical')"
      ],
      "execution_count": 17,
      "outputs": [
        {
          "output_type": "stream",
          "text": [
            "Found 1365 images belonging to 3 classes.\n"
          ],
          "name": "stdout"
        }
      ]
    },
    {
      "cell_type": "code",
      "metadata": {
        "colab": {
          "base_uri": "https://localhost:8080/"
        },
        "id": "F1hi9Iqe4-4A",
        "outputId": "ae2bb77e-04d4-4277-e905-e4e575be1593"
      },
      "source": [
        "!pip install --upgrade pip"
      ],
      "execution_count": null,
      "outputs": [
        {
          "output_type": "stream",
          "text": [
            "Requirement already up-to-date: pip in /usr/local/lib/python3.6/dist-packages (20.2.4)\n"
          ],
          "name": "stdout"
        }
      ]
    },
    {
      "cell_type": "code",
      "metadata": {
        "colab": {
          "base_uri": "https://localhost:8080/"
        },
        "id": "Fe_Y0aWF5Haz",
        "outputId": "8a01f428-3f81-4acd-fabc-9109752f55b7"
      },
      "source": [
        "!pip install --upgrade Pillow"
      ],
      "execution_count": null,
      "outputs": [
        {
          "output_type": "stream",
          "text": [
            "Requirement already up-to-date: Pillow in /usr/local/lib/python3.6/dist-packages (8.0.1)\n"
          ],
          "name": "stdout"
        }
      ]
    },
    {
      "cell_type": "code",
      "metadata": {
        "colab": {
          "base_uri": "https://localhost:8080/"
        },
        "id": "NCreyrHY84Ww",
        "scrolled": true,
        "outputId": "057d3e76-e83a-4667-9e2d-a3cb8b20506f"
      },
      "source": [
        "r = model.fit_generator(\n",
        "  training_set,\n",
        "  validation_data=test_set,\n",
        "  epochs=50,\n",
        "  steps_per_epoch = len(training_set),\n",
        "  validation_steps = len(test_set)\n",
        ")"
      ],
      "execution_count": 19,
      "outputs": [
        {
          "output_type": "stream",
          "text": [
            "Epoch 1/50\n",
            "51/51 [==============================] - 852s 17s/step - loss: 0.9541 - accuracy: 0.6073 - val_loss: 0.7390 - val_accuracy: 0.6842\n",
            "Epoch 2/50\n",
            "51/51 [==============================] - 25s 484ms/step - loss: 0.7584 - accuracy: 0.6634 - val_loss: 0.7221 - val_accuracy: 0.6967\n",
            "Epoch 3/50\n",
            "51/51 [==============================] - 24s 478ms/step - loss: 0.6647 - accuracy: 0.7263 - val_loss: 0.6779 - val_accuracy: 0.7194\n",
            "Epoch 4/50\n",
            "51/51 [==============================] - 24s 479ms/step - loss: 0.6562 - accuracy: 0.7263 - val_loss: 0.8303 - val_accuracy: 0.7011\n",
            "Epoch 5/50\n",
            "51/51 [==============================] - 24s 479ms/step - loss: 0.6134 - accuracy: 0.7546 - val_loss: 0.6437 - val_accuracy: 0.7377\n",
            "Epoch 6/50\n",
            "51/51 [==============================] - 24s 479ms/step - loss: 0.6066 - accuracy: 0.7497 - val_loss: 0.6144 - val_accuracy: 0.7348\n",
            "Epoch 7/50\n",
            "51/51 [==============================] - 25s 482ms/step - loss: 0.5855 - accuracy: 0.7645 - val_loss: 0.6314 - val_accuracy: 0.7282\n",
            "Epoch 8/50\n",
            "51/51 [==============================] - 25s 483ms/step - loss: 0.5254 - accuracy: 0.7904 - val_loss: 0.6201 - val_accuracy: 0.7443\n",
            "Epoch 9/50\n",
            "51/51 [==============================] - 24s 474ms/step - loss: 0.5439 - accuracy: 0.7836 - val_loss: 0.6139 - val_accuracy: 0.7436\n",
            "Epoch 10/50\n",
            "51/51 [==============================] - 24s 473ms/step - loss: 0.5107 - accuracy: 0.8033 - val_loss: 0.8562 - val_accuracy: 0.6425\n",
            "Epoch 11/50\n",
            "51/51 [==============================] - 24s 476ms/step - loss: 0.4956 - accuracy: 0.7935 - val_loss: 0.6532 - val_accuracy: 0.7385\n",
            "Epoch 12/50\n",
            "51/51 [==============================] - 24s 478ms/step - loss: 0.4946 - accuracy: 0.8033 - val_loss: 0.6121 - val_accuracy: 0.7399\n",
            "Epoch 13/50\n",
            "51/51 [==============================] - 24s 473ms/step - loss: 0.4535 - accuracy: 0.8169 - val_loss: 0.6554 - val_accuracy: 0.7253\n",
            "Epoch 14/50\n",
            "51/51 [==============================] - 24s 475ms/step - loss: 0.4460 - accuracy: 0.8200 - val_loss: 0.6389 - val_accuracy: 0.7297\n",
            "Epoch 15/50\n",
            "51/51 [==============================] - 24s 474ms/step - loss: 0.4450 - accuracy: 0.8237 - val_loss: 0.5585 - val_accuracy: 0.7670\n",
            "Epoch 16/50\n",
            "51/51 [==============================] - 24s 475ms/step - loss: 0.4253 - accuracy: 0.8397 - val_loss: 0.5505 - val_accuracy: 0.7648\n",
            "Epoch 17/50\n",
            "51/51 [==============================] - 24s 477ms/step - loss: 0.3976 - accuracy: 0.8502 - val_loss: 0.5793 - val_accuracy: 0.7590\n",
            "Epoch 18/50\n",
            "51/51 [==============================] - 24s 473ms/step - loss: 0.4091 - accuracy: 0.8354 - val_loss: 0.5593 - val_accuracy: 0.7597\n",
            "Epoch 19/50\n",
            "51/51 [==============================] - 24s 475ms/step - loss: 0.3908 - accuracy: 0.8446 - val_loss: 0.5790 - val_accuracy: 0.7509\n",
            "Epoch 20/50\n",
            "51/51 [==============================] - 24s 475ms/step - loss: 0.3797 - accuracy: 0.8631 - val_loss: 0.7118 - val_accuracy: 0.6799\n",
            "Epoch 21/50\n",
            "51/51 [==============================] - 24s 480ms/step - loss: 0.3982 - accuracy: 0.8385 - val_loss: 0.5585 - val_accuracy: 0.7670\n",
            "Epoch 22/50\n",
            "51/51 [==============================] - 24s 474ms/step - loss: 0.3949 - accuracy: 0.8440 - val_loss: 0.5701 - val_accuracy: 0.7678\n",
            "Epoch 23/50\n",
            "51/51 [==============================] - 24s 474ms/step - loss: 0.4036 - accuracy: 0.8416 - val_loss: 0.5886 - val_accuracy: 0.7487\n",
            "Epoch 24/50\n",
            "51/51 [==============================] - 24s 473ms/step - loss: 0.4009 - accuracy: 0.8409 - val_loss: 0.5742 - val_accuracy: 0.7560\n",
            "Epoch 25/50\n",
            "51/51 [==============================] - 24s 474ms/step - loss: 0.3648 - accuracy: 0.8514 - val_loss: 0.5817 - val_accuracy: 0.7612\n",
            "Epoch 26/50\n",
            "51/51 [==============================] - 24s 474ms/step - loss: 0.3482 - accuracy: 0.8625 - val_loss: 0.6175 - val_accuracy: 0.7429\n",
            "Epoch 27/50\n",
            "51/51 [==============================] - 24s 476ms/step - loss: 0.3544 - accuracy: 0.8588 - val_loss: 0.6427 - val_accuracy: 0.7363\n",
            "Epoch 28/50\n",
            "51/51 [==============================] - 25s 482ms/step - loss: 0.3291 - accuracy: 0.8730 - val_loss: 0.7399 - val_accuracy: 0.7443\n",
            "Epoch 29/50\n",
            "51/51 [==============================] - 25s 492ms/step - loss: 0.3279 - accuracy: 0.8816 - val_loss: 0.7786 - val_accuracy: 0.7538\n",
            "Epoch 30/50\n",
            "51/51 [==============================] - 25s 496ms/step - loss: 0.3281 - accuracy: 0.8761 - val_loss: 0.6015 - val_accuracy: 0.7707\n",
            "Epoch 31/50\n",
            "51/51 [==============================] - 25s 486ms/step - loss: 0.3138 - accuracy: 0.8878 - val_loss: 0.5596 - val_accuracy: 0.7788\n",
            "Epoch 32/50\n",
            "51/51 [==============================] - 25s 491ms/step - loss: 0.3192 - accuracy: 0.8810 - val_loss: 0.5642 - val_accuracy: 0.7634\n",
            "Epoch 33/50\n",
            "51/51 [==============================] - 25s 498ms/step - loss: 0.3117 - accuracy: 0.8859 - val_loss: 0.5795 - val_accuracy: 0.7495\n",
            "Epoch 34/50\n",
            "51/51 [==============================] - 25s 486ms/step - loss: 0.2919 - accuracy: 0.8927 - val_loss: 0.7793 - val_accuracy: 0.7355\n",
            "Epoch 35/50\n",
            "51/51 [==============================] - 25s 487ms/step - loss: 0.3991 - accuracy: 0.8434 - val_loss: 0.6033 - val_accuracy: 0.7414\n",
            "Epoch 36/50\n",
            "51/51 [==============================] - 25s 488ms/step - loss: 0.2918 - accuracy: 0.8890 - val_loss: 0.5902 - val_accuracy: 0.7575\n",
            "Epoch 37/50\n",
            "51/51 [==============================] - 25s 484ms/step - loss: 0.3006 - accuracy: 0.8970 - val_loss: 0.6218 - val_accuracy: 0.7297\n",
            "Epoch 38/50\n",
            "51/51 [==============================] - 25s 484ms/step - loss: 0.2722 - accuracy: 0.9032 - val_loss: 0.5429 - val_accuracy: 0.7758\n",
            "Epoch 39/50\n",
            "51/51 [==============================] - 25s 485ms/step - loss: 0.2847 - accuracy: 0.8890 - val_loss: 0.6076 - val_accuracy: 0.7495\n",
            "Epoch 40/50\n",
            "51/51 [==============================] - 25s 484ms/step - loss: 0.2836 - accuracy: 0.8952 - val_loss: 0.5447 - val_accuracy: 0.7634\n",
            "Epoch 41/50\n",
            "51/51 [==============================] - 24s 480ms/step - loss: 0.2528 - accuracy: 0.9100 - val_loss: 0.5598 - val_accuracy: 0.7553\n",
            "Epoch 42/50\n",
            "51/51 [==============================] - 24s 479ms/step - loss: 0.2857 - accuracy: 0.8841 - val_loss: 0.6609 - val_accuracy: 0.7385\n",
            "Epoch 43/50\n",
            "51/51 [==============================] - 24s 477ms/step - loss: 0.2686 - accuracy: 0.8977 - val_loss: 0.5593 - val_accuracy: 0.7641\n",
            "Epoch 44/50\n",
            "51/51 [==============================] - 24s 478ms/step - loss: 0.2918 - accuracy: 0.8878 - val_loss: 0.5316 - val_accuracy: 0.7824\n",
            "Epoch 45/50\n",
            "51/51 [==============================] - 24s 476ms/step - loss: 0.2451 - accuracy: 0.9063 - val_loss: 0.6105 - val_accuracy: 0.7670\n",
            "Epoch 46/50\n",
            "51/51 [==============================] - 24s 479ms/step - loss: 0.2446 - accuracy: 0.9205 - val_loss: 0.5301 - val_accuracy: 0.7758\n",
            "Epoch 47/50\n",
            "51/51 [==============================] - 24s 473ms/step - loss: 0.2570 - accuracy: 0.9038 - val_loss: 0.5756 - val_accuracy: 0.7597\n",
            "Epoch 48/50\n",
            "51/51 [==============================] - 24s 473ms/step - loss: 0.2666 - accuracy: 0.9020 - val_loss: 0.6017 - val_accuracy: 0.7531\n",
            "Epoch 49/50\n",
            "51/51 [==============================] - 24s 473ms/step - loss: 0.2578 - accuracy: 0.9044 - val_loss: 0.5705 - val_accuracy: 0.7619\n",
            "Epoch 50/50\n",
            "51/51 [==============================] - 24s 478ms/step - loss: 0.2676 - accuracy: 0.8989 - val_loss: 0.5292 - val_accuracy: 0.7817\n"
          ],
          "name": "stdout"
        }
      ]
    },
    {
      "cell_type": "code",
      "metadata": {
        "id": "ZqWsp449uOkQ"
      },
      "source": [
        ""
      ],
      "execution_count": null,
      "outputs": []
    },
    {
      "cell_type": "code",
      "metadata": {
        "id": "8QVIhEPe84W0"
      },
      "source": [
        "import matplotlib.pyplot as plt"
      ],
      "execution_count": 20,
      "outputs": []
    },
    {
      "cell_type": "code",
      "metadata": {
        "colab": {
          "base_uri": "https://localhost:8080/",
          "height": 531
        },
        "id": "Tij-OLOh84W5",
        "outputId": "31b2d328-1238-4458-d2a4-451ddb946b7a"
      },
      "source": [
        "# plot the loss\n",
        "plt.plot(r.history['loss'], label='train loss')\n",
        "plt.plot(r.history['val_loss'], label='val loss')\n",
        "plt.legend()\n",
        "plt.show()\n",
        "plt.savefig('LossVal_loss')\n",
        "\n",
        "# plot the accuracy\n",
        "plt.plot(r.history['accuracy'], label='train acc')\n",
        "plt.plot(r.history['val_accuracy'], label='val acc')\n",
        "plt.legend()\n",
        "plt.show()\n",
        "plt.savefig('AccVal_acc')"
      ],
      "execution_count": 21,
      "outputs": [
        {
          "output_type": "display_data",
          "data": {
            "image/png": "[encoded data removed]",
            "text/plain": [
              "<Figure size 432x288 with 1 Axes>"
            ]
          },
          "metadata": {
            "tags": [],
            "needs_background": "light"
          }
        },
        {
          "output_type": "display_data",
          "data": {
            "image/png": "[encoded data removed]",
            "text/plain": [
              "<Figure size 432x288 with 1 Axes>"
            ]
          },
          "metadata": {
            "tags": [],
            "needs_background": "light"
          }
        },
        {
          "output_type": "display_data",
          "data": {
            "text/plain": [
              "<Figure size 432x288 with 0 Axes>"
            ]
          },
          "metadata": {
            "tags": []
          }
        }
      ]
    },
    {
      "cell_type": "code",
      "metadata": {
        "id": "hYYKXpFb0jzW"
      },
      "source": [
        "# save it as a h5 file\n",
        "from tensorflow.keras.models import load_model\n",
        "\n",
        "model.save('model_vgg16.h5')\n",
        "\n"
      ],
      "execution_count": null,
      "outputs": []
    },
    {
      "cell_type": "code",
      "metadata": {
        "id": "DEKcgMHo84XH"
      },
      "source": [
        "\n",
        "y_pred = model.predict(test_set)\n"
      ],
      "execution_count": null,
      "outputs": []
    },
    {
      "cell_type": "code",
      "metadata": {
        "id": "HTjAKeDi0iVt"
      },
      "source": [
        ""
      ],
      "execution_count": null,
      "outputs": []
    },
    {
      "cell_type": "code",
      "metadata": {
        "colab": {
          "base_uri": "https://localhost:8080/"
        },
        "id": "Svdx1da284XM",
        "outputId": "2377755f-9d12-425a-a148-9292453bc2f8"
      },
      "source": [
        "y_pred"
      ],
      "execution_count": null,
      "outputs": [
        {
          "output_type": "execute_result",
          "data": {
            "text/plain": [
              "array([[1.6156750e-02, 3.0497994e-04, 6.0654622e-01, ..., 3.6334237e-01,\n",
              "        6.5700626e-03, 3.0459701e-03],\n",
              "       [9.6584576e-01, 6.6870661e-04, 3.6077339e-03, ..., 2.0302070e-02,\n",
              "        4.6821233e-07, 6.3093556e-03],\n",
              "       [7.2834606e-05, 1.3558550e-06, 1.1101007e-02, ..., 6.7575014e-01,\n",
              "        9.4152747e-05, 4.3969296e-05],\n",
              "       ...,\n",
              "       [3.4496721e-03, 1.7849829e-04, 9.6736379e-02, ..., 8.8237375e-02,\n",
              "        2.2338678e-05, 5.4914961e-03],\n",
              "       [1.1361478e-01, 2.9841738e-04, 4.0347236e-03, ..., 2.9662859e-03,\n",
              "        2.0344302e-03, 1.2690463e-05],\n",
              "       [4.3949842e-01, 4.6805780e-02, 1.0078303e-01, ..., 2.6442584e-02,\n",
              "        8.9371698e-03, 1.2574753e-01]], dtype=float32)"
            ]
          },
          "metadata": {
            "tags": []
          },
          "execution_count": 25
        }
      ]
    },
    {
      "cell_type": "code",
      "metadata": {
        "id": "wZrUdavX84XU"
      },
      "source": [
        "import numpy as np\n",
        "y_pred = np.argmax(y_pred, axis=1)"
      ],
      "execution_count": null,
      "outputs": []
    },
    {
      "cell_type": "code",
      "metadata": {
        "colab": {
          "base_uri": "https://localhost:8080/"
        },
        "id": "TlDyo8Lf84XY",
        "outputId": "86df1c1f-9a89-417a-c3a0-b1b5e43bfff5"
      },
      "source": [
        "y_pred"
      ],
      "execution_count": null,
      "outputs": [
        {
          "output_type": "execute_result",
          "data": {
            "text/plain": [
              "array([2, 0, 4, ..., 3, 3, 0])"
            ]
          },
          "metadata": {
            "tags": []
          },
          "execution_count": 27
        }
      ]
    },
    {
      "cell_type": "code",
      "metadata": {
        "id": "4uFuDEIr84Xc"
      },
      "source": [
        "from tensorflow.keras.models import load_model\n",
        "\n",
        "model.save('model_inception2.h5')"
      ],
      "execution_count": null,
      "outputs": []
    },
    {
      "cell_type": "code",
      "metadata": {
        "id": "q_whXR5984Xg"
      },
      "source": [
        "from tensorflow.keras.models import load_model\n",
        "from tensorflow.keras.preprocessing import image"
      ],
      "execution_count": null,
      "outputs": []
    },
    {
      "cell_type": "code",
      "metadata": {
        "id": "IheA0WFB84Xm"
      },
      "source": [
        "model=load_model('model_inception2.h5')"
      ],
      "execution_count": null,
      "outputs": []
    },
    {
      "cell_type": "code",
      "metadata": {
        "id": "WrBTR_DI84Xs"
      },
      "source": [
        "img_data"
      ],
      "execution_count": null,
      "outputs": []
    },
    {
      "cell_type": "code",
      "metadata": {
        "id": "UDa654i384Xx"
      },
      "source": [
        "img=image.load_img('/content/drive/MyDrive/Datasets/dataset-satellitedata/test/SN_9563/HB03334.000.jpg',target_size=(224,224))\n",
        "\n"
      ],
      "execution_count": null,
      "outputs": []
    },
    {
      "cell_type": "code",
      "metadata": {
        "id": "oujUMHc284X1"
      },
      "source": [
        "x=image.img_to_array(img)\n",
        "x"
      ],
      "execution_count": null,
      "outputs": []
    },
    {
      "cell_type": "code",
      "metadata": {
        "id": "tiQDUAOc84X5"
      },
      "source": [
        "x.shape"
      ],
      "execution_count": null,
      "outputs": []
    },
    {
      "cell_type": "code",
      "metadata": {
        "id": "KXELT6OM84X9"
      },
      "source": [
        "x=x/255"
      ],
      "execution_count": null,
      "outputs": []
    },
    {
      "cell_type": "code",
      "metadata": {
        "id": "EvoWUZRO84YD"
      },
      "source": [
        "import numpy as np\n",
        "x=np.expand_dims(x,axis=0)\n",
        "img_data=preprocess_input(x)\n",
        "img_data.shape"
      ],
      "execution_count": null,
      "outputs": []
    },
    {
      "cell_type": "code",
      "metadata": {
        "id": "LM0IWRqO84YH"
      },
      "source": [
        "model.predict(img_data)"
      ],
      "execution_count": null,
      "outputs": []
    },
    {
      "cell_type": "code",
      "metadata": {
        "id": "kRw1_r_w84YL"
      },
      "source": [
        "a=np.argmax(model.predict(img_data), axis=1)"
      ],
      "execution_count": null,
      "outputs": []
    },
    {
      "cell_type": "code",
      "metadata": {
        "id": "v8UJkbK084YP"
      },
      "source": [
        "a==1"
      ],
      "execution_count": null,
      "outputs": []
    },
    {
      "cell_type": "code",
      "metadata": {
        "id": "F-ERyXXA84YT"
      },
      "source": [
        "import tensorflow as tf"
      ],
      "execution_count": null,
      "outputs": []
    },
    {
      "cell_type": "code",
      "metadata": {
        "id": "GtA4YHY084YX"
      },
      "source": [
        "tf.__version__"
      ],
      "execution_count": null,
      "outputs": []
    },
    {
      "cell_type": "code",
      "metadata": {
        "id": "j85Krr1G84Yb"
      },
      "source": [
        ""
      ],
      "execution_count": null,
      "outputs": []
    }
  ]
}