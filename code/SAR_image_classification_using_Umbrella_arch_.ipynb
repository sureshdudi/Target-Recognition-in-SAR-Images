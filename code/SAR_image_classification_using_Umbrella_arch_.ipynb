{
  "nbformat": 4,
  "nbformat_minor": 0,
  "metadata": {
    "colab": {
      "name": "SAR image classification using Umbrella arch .ipynb",
      "provenance": [],
      "collapsed_sections": []
    },
    "kernelspec": {
      "name": "python3",
      "display_name": "Python 3"
    },
    "accelerator": "GPU"
  },
  "cells": [
    {
      "cell_type": "code",
      "metadata": {
        "colab": {
          "base_uri": "https://localhost:8080/"
        },
        "id": "QffqqLYpFKKH",
        "outputId": "d2722b46-3adc-47be-9a91-54176b0e6d2f"
      },
      "source": [
        "pip install keras"
      ],
      "execution_count": 3,
      "outputs": [
        {
          "output_type": "stream",
          "text": [
            "Requirement already satisfied: keras in /usr/local/lib/python3.6/dist-packages (2.4.3)\n",
            "Requirement already satisfied: pyyaml in /usr/local/lib/python3.6/dist-packages (from keras) (3.13)\n",
            "Requirement already satisfied: numpy>=1.9.1 in /usr/local/lib/python3.6/dist-packages (from keras) (1.18.5)\n",
            "Requirement already satisfied: h5py in /usr/local/lib/python3.6/dist-packages (from keras) (2.10.0)\n",
            "Requirement already satisfied: scipy>=0.14 in /usr/local/lib/python3.6/dist-packages (from keras) (1.4.1)\n",
            "Requirement already satisfied: six in /usr/local/lib/python3.6/dist-packages (from h5py->keras) (1.15.0)\n"
          ],
          "name": "stdout"
        }
      ]
    },
    {
      "cell_type": "code",
      "metadata": {
        "id": "ERmUxNJsFLW1"
      },
      "source": [
        "import numpy as np\n",
        "np.random.seed(123)  # for reproducibility"
      ],
      "execution_count": 4,
      "outputs": []
    },
    {
      "cell_type": "code",
      "metadata": {
        "id": "d0Xhq6EbFT50"
      },
      "source": [
        "from keras.models import Sequential"
      ],
      "execution_count": 5,
      "outputs": []
    },
    {
      "cell_type": "code",
      "metadata": {
        "id": "v3uJB_mOFWuJ"
      },
      "source": [
        "from keras.layers import Dense, Dropout, Activation, Flatten\n",
        "from keras.layers import Convolution2D, MaxPooling2D,AveragePooling2D\n",
        "from keras.utils import np_utils\n"
      ],
      "execution_count": 6,
      "outputs": []
    },
    {
      "cell_type": "code",
      "metadata": {
        "colab": {
          "base_uri": "https://localhost:8080/"
        },
        "id": "owZyVI33GgNf",
        "outputId": "3f950a05-3cb8-4825-e4a1-90be86d2893d"
      },
      "source": [
        "\n",
        "from google.colab import drive\n",
        "drive.mount('/content/drive/')                                   "
      ],
      "execution_count": 2,
      "outputs": [
        {
          "output_type": "stream",
          "text": [
            "Mounted at /content/drive/\n"
          ],
          "name": "stdout"
        }
      ]
    },
    {
      "cell_type": "code",
      "metadata": {
        "id": "hf2vbH3GGb4R"
      },
      "source": [
        "IMAGE_SIZE = [224, 224]\n",
        "\n",
        "train_path = '/content/drive/MyDrive/Datasets/TARGETS/TRAIN/17_DEG'\n",
        "valid_path = '/content/drive/MyDrive/Datasets/TARGETS/TEST/15_DEG'\n"
      ],
      "execution_count": 7,
      "outputs": []
    },
    {
      "cell_type": "code",
      "metadata": {
        "id": "E-el4cSyTyQ9"
      },
      "source": [
        ""
      ],
      "execution_count": 7,
      "outputs": []
    },
    {
      "cell_type": "code",
      "metadata": {
        "id": "ZPC2dNAOG-mJ"
      },
      "source": [
        "model = Sequential()\n",
        " \n",
        "model.add(Convolution2D(32, 1, 1, activation='relu', input_shape=IMAGE_SIZE + [3]))\n",
        "model.add(Convolution2D(32, 3, 3, activation='relu'))\n",
        "model.add(MaxPooling2D(pool_size=(2,2)))\n",
        "#model.add(Dropout(0.25))\n",
        "model.add(Convolution2D(32, 1, 1, activation='relu'))\n",
        "model.add(Convolution2D(32, 3, 3, activation='relu'))\n",
        "model.add(MaxPooling2D(pool_size=(2,2)))\n",
        "model.add(Convolution2D(64, 3, 3, activation='relu'))\n",
        "model.add(AveragePooling2D(pool_size=(2,2)))\n",
        "model.add(Dropout(0.5))\n",
        "\n",
        "model.add(Flatten())\n",
        "model.add(Dense(128, activation='relu'))\n",
        "model.add(Dense(3, activation='softmax'))"
      ],
      "execution_count": 8,
      "outputs": []
    },
    {
      "cell_type": "code",
      "metadata": {
        "id": "0IBhIpmkH7Cp"
      },
      "source": [
        "model.compile(loss='categorical_crossentropy',\n",
        "              optimizer='adam',\n",
        "              metrics=['accuracy'])"
      ],
      "execution_count": 9,
      "outputs": []
    },
    {
      "cell_type": "code",
      "metadata": {
        "colab": {
          "base_uri": "https://localhost:8080/"
        },
        "id": "B_N3KbFuIWBz",
        "outputId": "74377f4c-424c-48d1-a39e-3d1e6af351be"
      },
      "source": [
        "model.summary()"
      ],
      "execution_count": 10,
      "outputs": [
        {
          "output_type": "stream",
          "text": [
            "Model: \"sequential\"\n",
            "_________________________________________________________________\n",
            "Layer (type)                 Output Shape              Param #   \n",
            "=================================================================\n",
            "conv2d (Conv2D)              (None, 224, 224, 32)      128       \n",
            "_________________________________________________________________\n",
            "conv2d_1 (Conv2D)            (None, 74, 74, 32)        9248      \n",
            "_________________________________________________________________\n",
            "max_pooling2d (MaxPooling2D) (None, 37, 37, 32)        0         \n",
            "_________________________________________________________________\n",
            "conv2d_2 (Conv2D)            (None, 37, 37, 32)        1056      \n",
            "_________________________________________________________________\n",
            "conv2d_3 (Conv2D)            (None, 12, 12, 32)        9248      \n",
            "_________________________________________________________________\n",
            "max_pooling2d_1 (MaxPooling2 (None, 6, 6, 32)          0         \n",
            "_________________________________________________________________\n",
            "conv2d_4 (Conv2D)            (None, 2, 2, 64)          18496     \n",
            "_________________________________________________________________\n",
            "average_pooling2d (AveragePo (None, 1, 1, 64)          0         \n",
            "_________________________________________________________________\n",
            "dropout (Dropout)            (None, 1, 1, 64)          0         \n",
            "_________________________________________________________________\n",
            "flatten (Flatten)            (None, 64)                0         \n",
            "_________________________________________________________________\n",
            "dense (Dense)                (None, 128)               8320      \n",
            "_________________________________________________________________\n",
            "dense_1 (Dense)              (None, 3)                 387       \n",
            "=================================================================\n",
            "Total params: 46,883\n",
            "Trainable params: 46,883\n",
            "Non-trainable params: 0\n",
            "_________________________________________________________________\n"
          ],
          "name": "stdout"
        }
      ]
    },
    {
      "cell_type": "code",
      "metadata": {
        "id": "mxs7g_2UIeXl"
      },
      "source": [
        "from tensorflow.keras.preprocessing.image import ImageDataGenerator\n",
        "\n",
        "train_datagen = ImageDataGenerator(rescale = 1./255,\n",
        "                                   shear_range = 0.2,\n",
        "                                   zoom_range = 0.2,\n",
        "                                   horizontal_flip = True)\n",
        "\n",
        "test_datagen = ImageDataGenerator(rescale = 1./255)"
      ],
      "execution_count": 11,
      "outputs": []
    },
    {
      "cell_type": "code",
      "metadata": {
        "colab": {
          "base_uri": "https://localhost:8080/"
        },
        "id": "CNoTx4F0JDMJ",
        "outputId": "7ca13725-67ae-4f16-e74e-d7a10e2f0fa6"
      },
      "source": [
        "training_set = train_datagen.flow_from_directory('/content/drive/MyDrive/Datasets/TARGETS/TRAIN/17_DEG',\n",
        "                                                 target_size = (224, 224),\n",
        "                                                 batch_size = 32,\n",
        "                                                 class_mode = 'categorical')"
      ],
      "execution_count": 12,
      "outputs": [
        {
          "output_type": "stream",
          "text": [
            "Found 1622 images belonging to 3 classes.\n"
          ],
          "name": "stdout"
        }
      ]
    },
    {
      "cell_type": "code",
      "metadata": {
        "colab": {
          "base_uri": "https://localhost:8080/"
        },
        "id": "aiiOGFxpJJ60",
        "outputId": "16a509b1-37fa-4506-850b-ab52ed354021"
      },
      "source": [
        "test_set = test_datagen.flow_from_directory('/content/drive/MyDrive/Datasets/TARGETS/TEST/15_DEG',\n",
        "                                            target_size = (224, 224),\n",
        "                                            batch_size = 32,\n",
        "                                            class_mode = 'categorical')"
      ],
      "execution_count": 13,
      "outputs": [
        {
          "output_type": "stream",
          "text": [
            "Found 1365 images belonging to 3 classes.\n"
          ],
          "name": "stdout"
        }
      ]
    },
    {
      "cell_type": "code",
      "metadata": {
        "colab": {
          "base_uri": "https://localhost:8080/"
        },
        "id": "OGB9yHKeJMhx",
        "outputId": "b95465f7-9775-481e-8ec3-6647e68b33c4"
      },
      "source": [
        "r = model.fit_generator(\n",
        "  training_set,\n",
        "  validation_data=test_set,\n",
        "  epochs=50,\n",
        "  steps_per_epoch = len(training_set),\n",
        "  validation_steps = len(test_set)\n",
        ")"
      ],
      "execution_count": 14,
      "outputs": [
        {
          "output_type": "stream",
          "text": [
            "WARNING:tensorflow:From <ipython-input-14-f78e0d0bb8ec>:6: Model.fit_generator (from tensorflow.python.keras.engine.training) is deprecated and will be removed in a future version.\n",
            "Instructions for updating:\n",
            "Please use Model.fit, which supports generators.\n",
            "Epoch 1/50\n",
            "51/51 [==============================] - 1011s 20s/step - loss: 1.0150 - accuracy: 0.5006 - val_loss: 0.8943 - val_accuracy: 0.6667\n",
            "Epoch 2/50\n",
            "51/51 [==============================] - 21s 417ms/step - loss: 0.8612 - accuracy: 0.6418 - val_loss: 0.7729 - val_accuracy: 0.6630\n",
            "Epoch 3/50\n",
            "51/51 [==============================] - 21s 414ms/step - loss: 0.8095 - accuracy: 0.6560 - val_loss: 0.7493 - val_accuracy: 0.6762\n",
            "Epoch 4/50\n",
            "51/51 [==============================] - 21s 414ms/step - loss: 0.7919 - accuracy: 0.6732 - val_loss: 0.7448 - val_accuracy: 0.6725\n",
            "Epoch 5/50\n",
            "51/51 [==============================] - 21s 413ms/step - loss: 0.7726 - accuracy: 0.6640 - val_loss: 0.7219 - val_accuracy: 0.6828\n",
            "Epoch 6/50\n",
            "51/51 [==============================] - 21s 417ms/step - loss: 0.7820 - accuracy: 0.6640 - val_loss: 0.7182 - val_accuracy: 0.6769\n",
            "Epoch 7/50\n",
            "51/51 [==============================] - 21s 415ms/step - loss: 0.7510 - accuracy: 0.6973 - val_loss: 0.7403 - val_accuracy: 0.6542\n",
            "Epoch 8/50\n",
            "51/51 [==============================] - 21s 412ms/step - loss: 0.7469 - accuracy: 0.6800 - val_loss: 0.6807 - val_accuracy: 0.6930\n",
            "Epoch 9/50\n",
            "51/51 [==============================] - 21s 413ms/step - loss: 0.7410 - accuracy: 0.6794 - val_loss: 0.7043 - val_accuracy: 0.6791\n",
            "Epoch 10/50\n",
            "51/51 [==============================] - 21s 414ms/step - loss: 0.7047 - accuracy: 0.6985 - val_loss: 0.6729 - val_accuracy: 0.7011\n",
            "Epoch 11/50\n",
            "51/51 [==============================] - 21s 413ms/step - loss: 0.7183 - accuracy: 0.6862 - val_loss: 0.6642 - val_accuracy: 0.7128\n",
            "Epoch 12/50\n",
            "51/51 [==============================] - 21s 412ms/step - loss: 0.7009 - accuracy: 0.6936 - val_loss: 0.6962 - val_accuracy: 0.6747\n",
            "Epoch 13/50\n",
            "51/51 [==============================] - 21s 415ms/step - loss: 0.6900 - accuracy: 0.7072 - val_loss: 0.6431 - val_accuracy: 0.7209\n",
            "Epoch 14/50\n",
            "51/51 [==============================] - 21s 414ms/step - loss: 0.6778 - accuracy: 0.7115 - val_loss: 0.6491 - val_accuracy: 0.7055\n",
            "Epoch 15/50\n",
            "51/51 [==============================] - 22s 426ms/step - loss: 0.6714 - accuracy: 0.7164 - val_loss: 0.6935 - val_accuracy: 0.6747\n",
            "Epoch 16/50\n",
            "51/51 [==============================] - 21s 414ms/step - loss: 0.6733 - accuracy: 0.7164 - val_loss: 0.6294 - val_accuracy: 0.7121\n",
            "Epoch 17/50\n",
            "51/51 [==============================] - 21s 412ms/step - loss: 0.6666 - accuracy: 0.7139 - val_loss: 0.6320 - val_accuracy: 0.7187\n",
            "Epoch 18/50\n",
            "51/51 [==============================] - 21s 411ms/step - loss: 0.6632 - accuracy: 0.7152 - val_loss: 0.6018 - val_accuracy: 0.7502\n",
            "Epoch 19/50\n",
            "51/51 [==============================] - 21s 408ms/step - loss: 0.6465 - accuracy: 0.7244 - val_loss: 0.6126 - val_accuracy: 0.7304\n",
            "Epoch 20/50\n",
            "51/51 [==============================] - 21s 414ms/step - loss: 0.6520 - accuracy: 0.7207 - val_loss: 0.5836 - val_accuracy: 0.7407\n",
            "Epoch 21/50\n",
            "51/51 [==============================] - 21s 419ms/step - loss: 0.6293 - accuracy: 0.7232 - val_loss: 0.5824 - val_accuracy: 0.7443\n",
            "Epoch 22/50\n",
            "51/51 [==============================] - 21s 421ms/step - loss: 0.6193 - accuracy: 0.7423 - val_loss: 0.5405 - val_accuracy: 0.7597\n",
            "Epoch 23/50\n",
            "51/51 [==============================] - 21s 414ms/step - loss: 0.5876 - accuracy: 0.7454 - val_loss: 0.5254 - val_accuracy: 0.7736\n",
            "Epoch 24/50\n",
            "51/51 [==============================] - 21s 412ms/step - loss: 0.5698 - accuracy: 0.7546 - val_loss: 0.5217 - val_accuracy: 0.7619\n",
            "Epoch 25/50\n",
            "51/51 [==============================] - 21s 411ms/step - loss: 0.5581 - accuracy: 0.7651 - val_loss: 0.4968 - val_accuracy: 0.7963\n",
            "Epoch 26/50\n",
            "51/51 [==============================] - 21s 410ms/step - loss: 0.5596 - accuracy: 0.7663 - val_loss: 0.4917 - val_accuracy: 0.7897\n",
            "Epoch 27/50\n",
            "51/51 [==============================] - 21s 412ms/step - loss: 0.5115 - accuracy: 0.7805 - val_loss: 0.4873 - val_accuracy: 0.8051\n",
            "Epoch 28/50\n",
            "51/51 [==============================] - 21s 414ms/step - loss: 0.5312 - accuracy: 0.7737 - val_loss: 0.4535 - val_accuracy: 0.8139\n",
            "Epoch 29/50\n",
            "51/51 [==============================] - 21s 408ms/step - loss: 0.5376 - accuracy: 0.7725 - val_loss: 0.4753 - val_accuracy: 0.7934\n",
            "Epoch 30/50\n",
            "51/51 [==============================] - 21s 415ms/step - loss: 0.5174 - accuracy: 0.7891 - val_loss: 0.4410 - val_accuracy: 0.8264\n",
            "Epoch 31/50\n",
            "51/51 [==============================] - 21s 404ms/step - loss: 0.5036 - accuracy: 0.7910 - val_loss: 0.4632 - val_accuracy: 0.8125\n",
            "Epoch 32/50\n",
            "51/51 [==============================] - 21s 409ms/step - loss: 0.4785 - accuracy: 0.7984 - val_loss: 0.4006 - val_accuracy: 0.8440\n",
            "Epoch 33/50\n",
            "51/51 [==============================] - 21s 407ms/step - loss: 0.4667 - accuracy: 0.8120 - val_loss: 0.4077 - val_accuracy: 0.8403\n",
            "Epoch 34/50\n",
            "51/51 [==============================] - 21s 408ms/step - loss: 0.4690 - accuracy: 0.8070 - val_loss: 0.3855 - val_accuracy: 0.8447\n",
            "Epoch 35/50\n",
            "51/51 [==============================] - 21s 408ms/step - loss: 0.4559 - accuracy: 0.8169 - val_loss: 0.3786 - val_accuracy: 0.8615\n",
            "Epoch 36/50\n",
            "51/51 [==============================] - 21s 409ms/step - loss: 0.4690 - accuracy: 0.8113 - val_loss: 0.3915 - val_accuracy: 0.8615\n",
            "Epoch 37/50\n",
            "51/51 [==============================] - 21s 411ms/step - loss: 0.4524 - accuracy: 0.8181 - val_loss: 0.3683 - val_accuracy: 0.8623\n",
            "Epoch 38/50\n",
            "51/51 [==============================] - 21s 409ms/step - loss: 0.4390 - accuracy: 0.8194 - val_loss: 0.3772 - val_accuracy: 0.8615\n",
            "Epoch 39/50\n",
            "51/51 [==============================] - 21s 420ms/step - loss: 0.4496 - accuracy: 0.8194 - val_loss: 0.3609 - val_accuracy: 0.8674\n",
            "Epoch 40/50\n",
            "51/51 [==============================] - 21s 420ms/step - loss: 0.4031 - accuracy: 0.8397 - val_loss: 0.3661 - val_accuracy: 0.8601\n",
            "Epoch 41/50\n",
            "51/51 [==============================] - 21s 418ms/step - loss: 0.4538 - accuracy: 0.8150 - val_loss: 0.3901 - val_accuracy: 0.8381\n",
            "Epoch 42/50\n",
            "51/51 [==============================] - 21s 416ms/step - loss: 0.4355 - accuracy: 0.8212 - val_loss: 0.3478 - val_accuracy: 0.8777\n",
            "Epoch 43/50\n",
            "51/51 [==============================] - 21s 407ms/step - loss: 0.3977 - accuracy: 0.8459 - val_loss: 0.3568 - val_accuracy: 0.8645\n",
            "Epoch 44/50\n",
            "51/51 [==============================] - 21s 420ms/step - loss: 0.4095 - accuracy: 0.8292 - val_loss: 0.4247 - val_accuracy: 0.8154\n",
            "Epoch 45/50\n",
            "51/51 [==============================] - 21s 409ms/step - loss: 0.3941 - accuracy: 0.8385 - val_loss: 0.3452 - val_accuracy: 0.8733\n",
            "Epoch 46/50\n",
            "51/51 [==============================] - 21s 405ms/step - loss: 0.4090 - accuracy: 0.8280 - val_loss: 0.3348 - val_accuracy: 0.8733\n",
            "Epoch 47/50\n",
            "51/51 [==============================] - 21s 407ms/step - loss: 0.3836 - accuracy: 0.8477 - val_loss: 0.3957 - val_accuracy: 0.8454\n",
            "Epoch 48/50\n",
            "51/51 [==============================] - 21s 403ms/step - loss: 0.3896 - accuracy: 0.8459 - val_loss: 0.3523 - val_accuracy: 0.8645\n",
            "Epoch 49/50\n",
            "51/51 [==============================] - 21s 403ms/step - loss: 0.3614 - accuracy: 0.8588 - val_loss: 0.3351 - val_accuracy: 0.8733\n",
            "Epoch 50/50\n",
            "51/51 [==============================] - 21s 402ms/step - loss: 0.3624 - accuracy: 0.8551 - val_loss: 0.3211 - val_accuracy: 0.8806\n"
          ],
          "name": "stdout"
        }
      ]
    },
    {
      "cell_type": "code",
      "metadata": {
        "id": "E7NIEkPdJR9t"
      },
      "source": [
        ""
      ],
      "execution_count": null,
      "outputs": []
    }
  ]
}